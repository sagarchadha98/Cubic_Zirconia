{
  "nbformat": 4,
  "nbformat_minor": 0,
  "metadata": {
    "accelerator": "GPU",
    "colab": {
      "name": "Classification_Models.ipynb",
      "provenance": [],
      "collapsed_sections": [
        "wRnvsTY_uFCx",
        "7RUr9GWZsJIm",
        "NIwAGPhOuFCy",
        "jjzs3GhM0gq2",
        "f1pW0CEQuFCy",
        "blJJ-tu-uFCy",
        "i02jAHTe0gq4",
        "3t2OQcoiuFCy",
        "RAJYlwtJ0gq4",
        "NUD3Cajx0gq5",
        "UXNFYHeZuFCz",
        "hNJmczWU0gq6",
        "9G3QJTyu0gq6"
      ],
      "include_colab_link": true
    },
    "kernelspec": {
      "display_name": "Python 3",
      "language": "python",
      "name": "python3"
    },
    "language_info": {
      "codemirror_mode": {
        "name": "ipython",
        "version": 3
      },
      "file_extension": ".py",
      "mimetype": "text/x-python",
      "name": "python",
      "nbconvert_exporter": "python",
      "pygments_lexer": "ipython3",
      "version": "3.8.5"
    }
  },
  "cells": [
    {
      "cell_type": "markdown",
      "metadata": {
        "id": "view-in-github",
        "colab_type": "text"
      },
      "source": [
        "<a href=\"https://colab.research.google.com/github/sagarchadha98/Supervised-learning-algorithms/blob/master/Classification_Models.ipynb\" target=\"_parent\"><img src=\"https://colab.research.google.com/assets/colab-badge.svg\" alt=\"Open In Colab\"/></a>"
      ]
    },
    {
      "cell_type": "markdown",
      "metadata": {
        "id": "KENnc2jsuFCu"
      },
      "source": [
        "# Part 1:  Data Importing and Data Exploration -->\n",
        "\n",
        "**Importing dataset**\n",
        "1. Import the dataset and run basic checks commands\n",
        "\n",
        "**Data Exploration and Visualization**\n",
        "2. Univariate Analysis:\n",
        "  * Check Frequency counts of Categorical Variables\n",
        "  * Check Distribution of Numerical Variables (`.describe()`)\n",
        "3. Perform Bi-variate Analysis with relation to the prediction column `Exited`:\n",
        "  * Categorical columns : `sns.barplot()`\n",
        "  * Numerical Columns : `sns.regplot()`"
      ]
    },
    {
      "cell_type": "code",
      "metadata": {
        "id": "XoOjs9zz0gqx"
      },
      "source": [
        "import pandas as pd\n",
        "import numpy as np\n",
        "import matplotlib.pyplot as plt\n",
        "import seaborn as sns\n",
        "import warnings\n",
        "warnings.filterwarnings('ignore')\n",
        "%matplotlib inline"
      ],
      "execution_count": null,
      "outputs": []
    },
    {
      "cell_type": "code",
      "metadata": {
        "id": "JaBu4zs70zy9"
      },
      "source": [
        "# from google.colab import files\n",
        "# uploaded = files.upload()"
      ],
      "execution_count": null,
      "outputs": []
    },
    {
      "cell_type": "code",
      "metadata": {
        "id": "QSi0Tt8p0gqx"
      },
      "source": [
        "train_df=pd.read_csv(\"train_churn.csv\")\n",
        "test_df=pd.read_csv(\"test_churn.csv\")\n",
        "train_df.columns= train_df.columns.str.lower()\n",
        "test_df.columns= test_df.columns.str.lower()"
      ],
      "execution_count": null,
      "outputs": []
    },
    {
      "cell_type": "code",
      "metadata": {
        "colab": {
          "base_uri": "https://localhost:8080/",
          "height": 196
        },
        "id": "MLuziug7amwX",
        "outputId": "cc861d35-b0ca-487b-8d7a-698bfb68ee6b"
      },
      "source": [
        "train_df.head()"
      ],
      "execution_count": null,
      "outputs": [
        {
          "output_type": "execute_result",
          "data": {
            "text/html": [
              "<div>\n",
              "<style scoped>\n",
              "    .dataframe tbody tr th:only-of-type {\n",
              "        vertical-align: middle;\n",
              "    }\n",
              "\n",
              "    .dataframe tbody tr th {\n",
              "        vertical-align: top;\n",
              "    }\n",
              "\n",
              "    .dataframe thead th {\n",
              "        text-align: right;\n",
              "    }\n",
              "</style>\n",
              "<table border=\"1\" class=\"dataframe\">\n",
              "  <thead>\n",
              "    <tr style=\"text-align: right;\">\n",
              "      <th></th>\n",
              "      <th>rownumber</th>\n",
              "      <th>customerid</th>\n",
              "      <th>surname</th>\n",
              "      <th>creditscore</th>\n",
              "      <th>geography</th>\n",
              "      <th>gender</th>\n",
              "      <th>age</th>\n",
              "      <th>tenure</th>\n",
              "      <th>balance</th>\n",
              "      <th>numofproducts</th>\n",
              "      <th>hascrcard</th>\n",
              "      <th>isactivemember</th>\n",
              "      <th>estimatedsalary</th>\n",
              "      <th>exited</th>\n",
              "    </tr>\n",
              "  </thead>\n",
              "  <tbody>\n",
              "    <tr>\n",
              "      <th>0</th>\n",
              "      <td>1</td>\n",
              "      <td>15634602</td>\n",
              "      <td>Hargrave</td>\n",
              "      <td>619</td>\n",
              "      <td>France</td>\n",
              "      <td>Female</td>\n",
              "      <td>42</td>\n",
              "      <td>2</td>\n",
              "      <td>0.00</td>\n",
              "      <td>1</td>\n",
              "      <td>1</td>\n",
              "      <td>1</td>\n",
              "      <td>101348.88</td>\n",
              "      <td>1</td>\n",
              "    </tr>\n",
              "    <tr>\n",
              "      <th>1</th>\n",
              "      <td>2</td>\n",
              "      <td>15647311</td>\n",
              "      <td>Hill</td>\n",
              "      <td>608</td>\n",
              "      <td>Spain</td>\n",
              "      <td>Female</td>\n",
              "      <td>41</td>\n",
              "      <td>1</td>\n",
              "      <td>83807.86</td>\n",
              "      <td>1</td>\n",
              "      <td>0</td>\n",
              "      <td>1</td>\n",
              "      <td>112542.58</td>\n",
              "      <td>0</td>\n",
              "    </tr>\n",
              "    <tr>\n",
              "      <th>2</th>\n",
              "      <td>3</td>\n",
              "      <td>15619304</td>\n",
              "      <td>Onio</td>\n",
              "      <td>502</td>\n",
              "      <td>France</td>\n",
              "      <td>Female</td>\n",
              "      <td>42</td>\n",
              "      <td>8</td>\n",
              "      <td>159660.80</td>\n",
              "      <td>3</td>\n",
              "      <td>1</td>\n",
              "      <td>0</td>\n",
              "      <td>113931.57</td>\n",
              "      <td>1</td>\n",
              "    </tr>\n",
              "    <tr>\n",
              "      <th>3</th>\n",
              "      <td>4</td>\n",
              "      <td>15701354</td>\n",
              "      <td>Boni</td>\n",
              "      <td>699</td>\n",
              "      <td>France</td>\n",
              "      <td>Female</td>\n",
              "      <td>39</td>\n",
              "      <td>1</td>\n",
              "      <td>0.00</td>\n",
              "      <td>2</td>\n",
              "      <td>0</td>\n",
              "      <td>0</td>\n",
              "      <td>93826.63</td>\n",
              "      <td>0</td>\n",
              "    </tr>\n",
              "    <tr>\n",
              "      <th>4</th>\n",
              "      <td>5</td>\n",
              "      <td>15737888</td>\n",
              "      <td>Mitchell</td>\n",
              "      <td>850</td>\n",
              "      <td>Spain</td>\n",
              "      <td>Female</td>\n",
              "      <td>43</td>\n",
              "      <td>2</td>\n",
              "      <td>125510.82</td>\n",
              "      <td>1</td>\n",
              "      <td>1</td>\n",
              "      <td>1</td>\n",
              "      <td>79084.10</td>\n",
              "      <td>0</td>\n",
              "    </tr>\n",
              "  </tbody>\n",
              "</table>\n",
              "</div>"
            ],
            "text/plain": [
              "   rownumber  customerid   surname  ...  isactivemember estimatedsalary exited\n",
              "0          1    15634602  Hargrave  ...               1       101348.88      1\n",
              "1          2    15647311      Hill  ...               1       112542.58      0\n",
              "2          3    15619304      Onio  ...               0       113931.57      1\n",
              "3          4    15701354      Boni  ...               0        93826.63      0\n",
              "4          5    15737888  Mitchell  ...               1        79084.10      0\n",
              "\n",
              "[5 rows x 14 columns]"
            ]
          },
          "metadata": {
            "tags": []
          },
          "execution_count": 43
        }
      ]
    },
    {
      "cell_type": "code",
      "metadata": {
        "colab": {
          "base_uri": "https://localhost:8080/",
          "height": 286
        },
        "id": "khbah_D_uFCu",
        "outputId": "9bb380cd-f3f9-4c2b-ab1a-52a6020468ae"
      },
      "source": [
        "train_df.describe()"
      ],
      "execution_count": null,
      "outputs": [
        {
          "output_type": "execute_result",
          "data": {
            "text/html": [
              "<div>\n",
              "<style scoped>\n",
              "    .dataframe tbody tr th:only-of-type {\n",
              "        vertical-align: middle;\n",
              "    }\n",
              "\n",
              "    .dataframe tbody tr th {\n",
              "        vertical-align: top;\n",
              "    }\n",
              "\n",
              "    .dataframe thead th {\n",
              "        text-align: right;\n",
              "    }\n",
              "</style>\n",
              "<table border=\"1\" class=\"dataframe\">\n",
              "  <thead>\n",
              "    <tr style=\"text-align: right;\">\n",
              "      <th></th>\n",
              "      <th>rownumber</th>\n",
              "      <th>customerid</th>\n",
              "      <th>creditscore</th>\n",
              "      <th>age</th>\n",
              "      <th>tenure</th>\n",
              "      <th>balance</th>\n",
              "      <th>numofproducts</th>\n",
              "      <th>hascrcard</th>\n",
              "      <th>isactivemember</th>\n",
              "      <th>estimatedsalary</th>\n",
              "      <th>exited</th>\n",
              "    </tr>\n",
              "  </thead>\n",
              "  <tbody>\n",
              "    <tr>\n",
              "      <th>count</th>\n",
              "      <td>8000.00000</td>\n",
              "      <td>8.000000e+03</td>\n",
              "      <td>8000.000000</td>\n",
              "      <td>8000.000000</td>\n",
              "      <td>8000.000000</td>\n",
              "      <td>8000.000000</td>\n",
              "      <td>8000.000000</td>\n",
              "      <td>8000.000000</td>\n",
              "      <td>8000.000000</td>\n",
              "      <td>8000.000000</td>\n",
              "      <td>8000.000000</td>\n",
              "    </tr>\n",
              "    <tr>\n",
              "      <th>mean</th>\n",
              "      <td>4000.50000</td>\n",
              "      <td>1.569069e+07</td>\n",
              "      <td>650.179625</td>\n",
              "      <td>38.937875</td>\n",
              "      <td>5.012750</td>\n",
              "      <td>76800.037192</td>\n",
              "      <td>1.528000</td>\n",
              "      <td>0.701625</td>\n",
              "      <td>0.512625</td>\n",
              "      <td>100198.588701</td>\n",
              "      <td>0.205875</td>\n",
              "    </tr>\n",
              "    <tr>\n",
              "      <th>std</th>\n",
              "      <td>2309.54541</td>\n",
              "      <td>7.157970e+04</td>\n",
              "      <td>96.844314</td>\n",
              "      <td>10.511224</td>\n",
              "      <td>2.884376</td>\n",
              "      <td>62391.192584</td>\n",
              "      <td>0.583102</td>\n",
              "      <td>0.457574</td>\n",
              "      <td>0.499872</td>\n",
              "      <td>57524.002768</td>\n",
              "      <td>0.404365</td>\n",
              "    </tr>\n",
              "    <tr>\n",
              "      <th>min</th>\n",
              "      <td>1.00000</td>\n",
              "      <td>1.556570e+07</td>\n",
              "      <td>350.000000</td>\n",
              "      <td>18.000000</td>\n",
              "      <td>0.000000</td>\n",
              "      <td>0.000000</td>\n",
              "      <td>1.000000</td>\n",
              "      <td>0.000000</td>\n",
              "      <td>0.000000</td>\n",
              "      <td>11.580000</td>\n",
              "      <td>0.000000</td>\n",
              "    </tr>\n",
              "    <tr>\n",
              "      <th>25%</th>\n",
              "      <td>2000.75000</td>\n",
              "      <td>1.562869e+07</td>\n",
              "      <td>583.000000</td>\n",
              "      <td>32.000000</td>\n",
              "      <td>3.000000</td>\n",
              "      <td>0.000000</td>\n",
              "      <td>1.000000</td>\n",
              "      <td>0.000000</td>\n",
              "      <td>0.000000</td>\n",
              "      <td>51271.410000</td>\n",
              "      <td>0.000000</td>\n",
              "    </tr>\n",
              "    <tr>\n",
              "      <th>50%</th>\n",
              "      <td>4000.50000</td>\n",
              "      <td>1.569035e+07</td>\n",
              "      <td>651.000000</td>\n",
              "      <td>37.000000</td>\n",
              "      <td>5.000000</td>\n",
              "      <td>97658.060000</td>\n",
              "      <td>1.000000</td>\n",
              "      <td>1.000000</td>\n",
              "      <td>1.000000</td>\n",
              "      <td>100272.165000</td>\n",
              "      <td>0.000000</td>\n",
              "    </tr>\n",
              "    <tr>\n",
              "      <th>75%</th>\n",
              "      <td>6000.25000</td>\n",
              "      <td>1.575234e+07</td>\n",
              "      <td>717.000000</td>\n",
              "      <td>44.000000</td>\n",
              "      <td>7.000000</td>\n",
              "      <td>127827.332500</td>\n",
              "      <td>2.000000</td>\n",
              "      <td>1.000000</td>\n",
              "      <td>1.000000</td>\n",
              "      <td>149372.387500</td>\n",
              "      <td>0.000000</td>\n",
              "    </tr>\n",
              "    <tr>\n",
              "      <th>max</th>\n",
              "      <td>8000.00000</td>\n",
              "      <td>1.581569e+07</td>\n",
              "      <td>850.000000</td>\n",
              "      <td>92.000000</td>\n",
              "      <td>10.000000</td>\n",
              "      <td>250898.090000</td>\n",
              "      <td>4.000000</td>\n",
              "      <td>1.000000</td>\n",
              "      <td>1.000000</td>\n",
              "      <td>199992.480000</td>\n",
              "      <td>1.000000</td>\n",
              "    </tr>\n",
              "  </tbody>\n",
              "</table>\n",
              "</div>"
            ],
            "text/plain": [
              "        rownumber    customerid  ...  estimatedsalary       exited\n",
              "count  8000.00000  8.000000e+03  ...      8000.000000  8000.000000\n",
              "mean   4000.50000  1.569069e+07  ...    100198.588701     0.205875\n",
              "std    2309.54541  7.157970e+04  ...     57524.002768     0.404365\n",
              "min       1.00000  1.556570e+07  ...        11.580000     0.000000\n",
              "25%    2000.75000  1.562869e+07  ...     51271.410000     0.000000\n",
              "50%    4000.50000  1.569035e+07  ...    100272.165000     0.000000\n",
              "75%    6000.25000  1.575234e+07  ...    149372.387500     0.000000\n",
              "max    8000.00000  1.581569e+07  ...    199992.480000     1.000000\n",
              "\n",
              "[8 rows x 11 columns]"
            ]
          },
          "metadata": {
            "tags": []
          },
          "execution_count": 44
        }
      ]
    },
    {
      "cell_type": "code",
      "metadata": {
        "colab": {
          "base_uri": "https://localhost:8080/"
        },
        "id": "AqtpkUYUuFCv",
        "outputId": "6dd1932b-340b-4080-aaf6-e55ebfc9c213"
      },
      "source": [
        "train_df[\"creditscore\"].value_counts()"
      ],
      "execution_count": null,
      "outputs": [
        {
          "output_type": "execute_result",
          "data": {
            "text/plain": [
              "850    197\n",
              "684     43\n",
              "705     43\n",
              "655     43\n",
              "648     42\n",
              "      ... \n",
              "358      1\n",
              "441      1\n",
              "421      1\n",
              "417      1\n",
              "386      1\n",
              "Name: creditscore, Length: 455, dtype: int64"
            ]
          },
          "metadata": {
            "tags": []
          },
          "execution_count": 45
        }
      ]
    },
    {
      "cell_type": "markdown",
      "metadata": {
        "id": "1AMO3QGle6q-"
      },
      "source": [
        "## Perform Basic Exploration and DataViz \n"
      ]
    },
    {
      "cell_type": "markdown",
      "metadata": {
        "id": "2kpoJzmLrdjx"
      },
      "source": [
        "#### UniVariate Analysis:Numerical Variables"
      ]
    },
    {
      "cell_type": "code",
      "metadata": {
        "id": "sxq3mq8N0gqz"
      },
      "source": [
        "def plot(feature):\n",
        "    fig,axes=plt.subplots(1,2)\n",
        "    sns.boxplot(data=train_df,x=feature,ax=axes[0])\n",
        "    sns.distplot(a=train_df[feature],ax=axes[1],color='#ff4125')\n",
        "    fig.set_size_inches(12,3)"
      ],
      "execution_count": null,
      "outputs": []
    },
    {
      "cell_type": "code",
      "metadata": {
        "id": "jIw4egzpuFCw"
      },
      "source": [
        "def plotr(feature):\n",
        "    sns.regplot(x = feature, y = \"exited\", data = train_df)\n",
        "    ax = sns.regplot(x = feature, y = \"exited\", data = train_df)"
      ],
      "execution_count": null,
      "outputs": []
    },
    {
      "cell_type": "code",
      "metadata": {
        "id": "HdoZFrQq0gqz"
      },
      "source": [
        "def plotc(feature):\n",
        "    sns.countplot(data=train_df,x=feature)\n",
        "    ax=sns.countplot(data=train_df,x=feature)"
      ],
      "execution_count": null,
      "outputs": []
    },
    {
      "cell_type": "code",
      "metadata": {
        "colab": {
          "base_uri": "https://localhost:8080/",
          "height": 225
        },
        "id": "CCTZMzL1uFCw",
        "outputId": "87821a44-668d-4564-b44f-f1767142c18b"
      },
      "source": [
        "plot(\"creditscore\")"
      ],
      "execution_count": null,
      "outputs": [
        {
          "output_type": "display_data",
          "data": {
            "image/png": "[encoded data removed]",
            "text/plain": [
              "<Figure size 864x216 with 2 Axes>"
            ]
          },
          "metadata": {
            "tags": [],
            "needs_background": "light"
          }
        }
      ]
    },
    {
      "cell_type": "code",
      "metadata": {
        "colab": {
          "base_uri": "https://localhost:8080/",
          "height": 225
        },
        "id": "DpedEovi0gqz",
        "outputId": "df814c3e-6875-4a2d-f944-2b66c95843a8"
      },
      "source": [
        "plot(\"age\")"
      ],
      "execution_count": null,
      "outputs": [
        {
          "output_type": "display_data",
          "data": {
            "image/png": "[encoded data removed]",
            "text/plain": [
              "<Figure size 864x216 with 2 Axes>"
            ]
          },
          "metadata": {
            "tags": [],
            "needs_background": "light"
          }
        }
      ]
    },
    {
      "cell_type": "markdown",
      "metadata": {
        "id": "0vWUjCn7NaJj"
      },
      "source": [
        "#### UniVariate Analysis:Categorical Variables"
      ]
    },
    {
      "cell_type": "code",
      "metadata": {
        "colab": {
          "base_uri": "https://localhost:8080/",
          "height": 279
        },
        "id": "G9Fl_c0XuFCw",
        "outputId": "c658982e-7d52-4d24-f876-b5743fc0cd12"
      },
      "source": [
        "plotc(\"gender\")"
      ],
      "execution_count": null,
      "outputs": [
        {
          "output_type": "display_data",
          "data": {
            "image/png": "[encoded data removed]",
            "text/plain": [
              "<Figure size 432x288 with 1 Axes>"
            ]
          },
          "metadata": {
            "tags": [],
            "needs_background": "light"
          }
        }
      ]
    },
    {
      "cell_type": "code",
      "metadata": {
        "colab": {
          "base_uri": "https://localhost:8080/",
          "height": 279
        },
        "id": "rfUVLz0TuFCw",
        "outputId": "c2d3e9f3-5e80-4df9-8ff8-3564af8fdd90"
      },
      "source": [
        "plotc(\"geography\")"
      ],
      "execution_count": null,
      "outputs": [
        {
          "output_type": "display_data",
          "data": {
            "image/png": "[encoded data removed]",
            "text/plain": [
              "<Figure size 432x288 with 1 Axes>"
            ]
          },
          "metadata": {
            "tags": [],
            "needs_background": "light"
          }
        }
      ]
    },
    {
      "cell_type": "code",
      "metadata": {
        "colab": {
          "base_uri": "https://localhost:8080/",
          "height": 279
        },
        "id": "qIWy6yc0uFCw",
        "outputId": "06d0a6ee-87d6-40eb-bb46-4ba0860bfdc9"
      },
      "source": [
        "plotr(\"tenure\")"
      ],
      "execution_count": null,
      "outputs": [
        {
          "output_type": "display_data",
          "data": {
            "image/png": "[encoded data removed]",
            "text/plain": [
              "<Figure size 432x288 with 1 Axes>"
            ]
          },
          "metadata": {
            "tags": [],
            "needs_background": "light"
          }
        }
      ]
    },
    {
      "cell_type": "code",
      "metadata": {
        "colab": {
          "base_uri": "https://localhost:8080/"
        },
        "id": "jJl__Tki0gqz",
        "outputId": "1e555640-b96b-4fe9-86c6-b2dbba4b8275"
      },
      "source": [
        "# calculate summary statistics\n",
        "age_mean, age_std = train_df.age.mean(), train_df.age.std()\n",
        "print(age_mean)\n",
        "print(age_std)\n",
        "print(train_df['age'].skew())\n",
        "\n",
        "# identify outliers\n",
        "cut_off = age_std * 2.5\n",
        "lower, upper = age_mean - cut_off, age_mean + cut_off\n",
        "print(lower)\n",
        "print(upper)\n",
        "# identify outliers\n",
        "#outliers = [x for x in data if x < lower or x > upper]\n",
        "# remove outliers\n",
        "#outliers_removed = [x for x in data if x > lower and x < upper]\n",
        "\n",
        "train_df[\"age\"] = np.where(train_df[\"age\"] <lower, lower,train_df['age'])\n",
        "train_df[\"age\"] = np.where(train_df[\"age\"] >upper, upper,train_df['age'])\n",
        "print(train_df['age'].skew())"
      ],
      "execution_count": null,
      "outputs": [
        {
          "output_type": "stream",
          "text": [
            "38.937875\n",
            "10.511223820880774\n",
            "1.0079543965790647\n",
            "12.659815447798064\n",
            "65.21593455220193\n",
            "0.7355157026256163\n"
          ],
          "name": "stdout"
        }
      ]
    },
    {
      "cell_type": "code",
      "metadata": {
        "colab": {
          "base_uri": "https://localhost:8080/",
          "height": 236
        },
        "id": "B4Uf0fxo0gq0",
        "outputId": "5b488412-944f-4618-ae01-4f13acc56edb"
      },
      "source": [
        "plot(\"estimatedsalary\")"
      ],
      "execution_count": null,
      "outputs": [
        {
          "output_type": "display_data",
          "data": {
            "image/png": "[encoded data removed]",
            "text/plain": [
              "<Figure size 864x216 with 2 Axes>"
            ]
          },
          "metadata": {
            "tags": [],
            "needs_background": "light"
          }
        }
      ]
    },
    {
      "cell_type": "code",
      "metadata": {
        "colab": {
          "base_uri": "https://localhost:8080/",
          "height": 236
        },
        "id": "7nYC89pouFCx",
        "outputId": "63c5e23d-8366-421a-8896-603fb4b2ee58"
      },
      "source": [
        "plot(\"balance\")"
      ],
      "execution_count": null,
      "outputs": [
        {
          "output_type": "display_data",
          "data": {
            "image/png": "[encoded data removed]",
            "text/plain": [
              "<Figure size 864x216 with 2 Axes>"
            ]
          },
          "metadata": {
            "tags": [],
            "needs_background": "light"
          }
        }
      ]
    },
    {
      "cell_type": "code",
      "metadata": {
        "id": "CBuWDcPGhUW9"
      },
      "source": [
        "corr= train_df.corr()"
      ],
      "execution_count": null,
      "outputs": []
    },
    {
      "cell_type": "code",
      "metadata": {
        "colab": {
          "base_uri": "https://localhost:8080/",
          "height": 610
        },
        "id": "3lIi_um3b0GV",
        "outputId": "5bad5fb1-4ff9-4bf1-cdde-c3b22debb8be"
      },
      "source": [
        "mask = np.triu(np.ones_like(corr, dtype=bool))\n",
        "f, ax = plt.subplots(figsize=(11, 15))\n",
        "heatmap = sns.heatmap(corr,\n",
        "                      mask = mask,\n",
        "                      square = True,\n",
        "                      linewidths = .5,\n",
        "                      cmap = 'coolwarm',\n",
        "                      cbar_kws = {'shrink': .4,\n",
        "                                \"ticks\" : [-1, -.5, 0, 0.5, 1]},\n",
        "                      vmin = -1,\n",
        "                      vmax = 1,\n",
        "                      annot = True,\n",
        "                      annot_kws = {\"size\": 12})\n",
        "\n",
        "#add the column names as labels\n",
        "ax.set_yticklabels(corr, rotation = 0)\n",
        "ax.set_xticklabels(corr)\n",
        "\n",
        "sns.set_style({'xtick.bottom': True}, {'ytick.left': True})"
      ],
      "execution_count": null,
      "outputs": [
        {
          "output_type": "display_data",
          "data": {
            "image/png": "[encoded data removed]",
            "text/plain": [
              "<Figure size 792x1080 with 2 Axes>"
            ]
          },
          "metadata": {
            "tags": [],
            "needs_background": "light"
          }
        }
      ]
    },
    {
      "cell_type": "markdown",
      "metadata": {
        "id": "wRnvsTY_uFCx"
      },
      "source": [
        "### Combined two datasets to avoid double work"
      ]
    },
    {
      "cell_type": "code",
      "metadata": {
        "id": "vNvN1TUi0gqy"
      },
      "source": [
        "all_data=[train_df,test_df]"
      ],
      "execution_count": null,
      "outputs": []
    },
    {
      "cell_type": "code",
      "metadata": {
        "id": "YBt2nE-s0gqz"
      },
      "source": [
        "for dataset in all_data:\n",
        "    dataset['age_bin'] = pd.cut(dataset['age'], bins=[0,18,40,100], labels=['young','adult','elder'])"
      ],
      "execution_count": null,
      "outputs": []
    },
    {
      "cell_type": "code",
      "metadata": {
        "id": "Z5djlWBB0gq0"
      },
      "source": [
        "for dataset in all_data:\n",
        "    dataset['balance_bin'] = pd.cut(dataset['balance'], bins=[-1,10000,50000,150000,300000], labels=['very_low_balance','low_balance',\n",
        "                                                                                        'medium_balance','high_balance'])"
      ],
      "execution_count": null,
      "outputs": []
    },
    {
      "cell_type": "code",
      "metadata": {
        "id": "Y1PFWjxH0gq0"
      },
      "source": [
        "for dataset in all_data:\n",
        "    dataset['salary_bin'] = pd.qcut(dataset['estimatedsalary'], q = 3,labels=['low_salary','medium_salary',\n",
        "                                                                                        'high_salary'])"
      ],
      "execution_count": null,
      "outputs": []
    },
    {
      "cell_type": "code",
      "metadata": {
        "colab": {
          "base_uri": "https://localhost:8080/",
          "height": 216
        },
        "id": "V3CofGER0gq0",
        "outputId": "bd6fdaec-f005-4c0b-a97d-852f826b3f9e"
      },
      "source": [
        "train_df.head()"
      ],
      "execution_count": null,
      "outputs": [
        {
          "output_type": "execute_result",
          "data": {
            "text/html": [
              "<div>\n",
              "<style scoped>\n",
              "    .dataframe tbody tr th:only-of-type {\n",
              "        vertical-align: middle;\n",
              "    }\n",
              "\n",
              "    .dataframe tbody tr th {\n",
              "        vertical-align: top;\n",
              "    }\n",
              "\n",
              "    .dataframe thead th {\n",
              "        text-align: right;\n",
              "    }\n",
              "</style>\n",
              "<table border=\"1\" class=\"dataframe\">\n",
              "  <thead>\n",
              "    <tr style=\"text-align: right;\">\n",
              "      <th></th>\n",
              "      <th>rownumber</th>\n",
              "      <th>customerid</th>\n",
              "      <th>surname</th>\n",
              "      <th>creditscore</th>\n",
              "      <th>geography</th>\n",
              "      <th>gender</th>\n",
              "      <th>age</th>\n",
              "      <th>tenure</th>\n",
              "      <th>balance</th>\n",
              "      <th>numofproducts</th>\n",
              "      <th>hascrcard</th>\n",
              "      <th>isactivemember</th>\n",
              "      <th>estimatedsalary</th>\n",
              "      <th>exited</th>\n",
              "      <th>age_bin</th>\n",
              "      <th>balance_bin</th>\n",
              "      <th>salary_bin</th>\n",
              "    </tr>\n",
              "  </thead>\n",
              "  <tbody>\n",
              "    <tr>\n",
              "      <th>0</th>\n",
              "      <td>1</td>\n",
              "      <td>15634602</td>\n",
              "      <td>Hargrave</td>\n",
              "      <td>619</td>\n",
              "      <td>France</td>\n",
              "      <td>Female</td>\n",
              "      <td>42.0</td>\n",
              "      <td>2</td>\n",
              "      <td>0.00</td>\n",
              "      <td>1</td>\n",
              "      <td>1</td>\n",
              "      <td>1</td>\n",
              "      <td>101348.88</td>\n",
              "      <td>1</td>\n",
              "      <td>elder</td>\n",
              "      <td>very_low_balance</td>\n",
              "      <td>medium_salary</td>\n",
              "    </tr>\n",
              "    <tr>\n",
              "      <th>1</th>\n",
              "      <td>2</td>\n",
              "      <td>15647311</td>\n",
              "      <td>Hill</td>\n",
              "      <td>608</td>\n",
              "      <td>Spain</td>\n",
              "      <td>Female</td>\n",
              "      <td>41.0</td>\n",
              "      <td>1</td>\n",
              "      <td>83807.86</td>\n",
              "      <td>1</td>\n",
              "      <td>0</td>\n",
              "      <td>1</td>\n",
              "      <td>112542.58</td>\n",
              "      <td>0</td>\n",
              "      <td>elder</td>\n",
              "      <td>medium_balance</td>\n",
              "      <td>medium_salary</td>\n",
              "    </tr>\n",
              "    <tr>\n",
              "      <th>2</th>\n",
              "      <td>3</td>\n",
              "      <td>15619304</td>\n",
              "      <td>Onio</td>\n",
              "      <td>502</td>\n",
              "      <td>France</td>\n",
              "      <td>Female</td>\n",
              "      <td>42.0</td>\n",
              "      <td>8</td>\n",
              "      <td>159660.80</td>\n",
              "      <td>3</td>\n",
              "      <td>1</td>\n",
              "      <td>0</td>\n",
              "      <td>113931.57</td>\n",
              "      <td>1</td>\n",
              "      <td>elder</td>\n",
              "      <td>high_balance</td>\n",
              "      <td>medium_salary</td>\n",
              "    </tr>\n",
              "    <tr>\n",
              "      <th>3</th>\n",
              "      <td>4</td>\n",
              "      <td>15701354</td>\n",
              "      <td>Boni</td>\n",
              "      <td>699</td>\n",
              "      <td>France</td>\n",
              "      <td>Female</td>\n",
              "      <td>39.0</td>\n",
              "      <td>1</td>\n",
              "      <td>0.00</td>\n",
              "      <td>2</td>\n",
              "      <td>0</td>\n",
              "      <td>0</td>\n",
              "      <td>93826.63</td>\n",
              "      <td>0</td>\n",
              "      <td>adult</td>\n",
              "      <td>very_low_balance</td>\n",
              "      <td>medium_salary</td>\n",
              "    </tr>\n",
              "    <tr>\n",
              "      <th>4</th>\n",
              "      <td>5</td>\n",
              "      <td>15737888</td>\n",
              "      <td>Mitchell</td>\n",
              "      <td>850</td>\n",
              "      <td>Spain</td>\n",
              "      <td>Female</td>\n",
              "      <td>43.0</td>\n",
              "      <td>2</td>\n",
              "      <td>125510.82</td>\n",
              "      <td>1</td>\n",
              "      <td>1</td>\n",
              "      <td>1</td>\n",
              "      <td>79084.10</td>\n",
              "      <td>0</td>\n",
              "      <td>elder</td>\n",
              "      <td>medium_balance</td>\n",
              "      <td>medium_salary</td>\n",
              "    </tr>\n",
              "  </tbody>\n",
              "</table>\n",
              "</div>"
            ],
            "text/plain": [
              "   rownumber  customerid   surname  ...  age_bin       balance_bin     salary_bin\n",
              "0          1    15634602  Hargrave  ...    elder  very_low_balance  medium_salary\n",
              "1          2    15647311      Hill  ...    elder    medium_balance  medium_salary\n",
              "2          3    15619304      Onio  ...    elder      high_balance  medium_salary\n",
              "3          4    15701354      Boni  ...    adult  very_low_balance  medium_salary\n",
              "4          5    15737888  Mitchell  ...    elder    medium_balance  medium_salary\n",
              "\n",
              "[5 rows x 17 columns]"
            ]
          },
          "metadata": {
            "tags": []
          },
          "execution_count": 63
        }
      ]
    },
    {
      "cell_type": "code",
      "metadata": {
        "colab": {
          "base_uri": "https://localhost:8080/"
        },
        "id": "7j4JJWJL0gq0",
        "outputId": "23b40053-4caa-4b8f-f030-919a9df1d7f7"
      },
      "source": [
        "train_df.salary_bin.value_counts()"
      ],
      "execution_count": null,
      "outputs": [
        {
          "output_type": "execute_result",
          "data": {
            "text/plain": [
              "high_salary      2667\n",
              "low_salary       2667\n",
              "medium_salary    2666\n",
              "Name: salary_bin, dtype: int64"
            ]
          },
          "metadata": {
            "tags": []
          },
          "execution_count": 64
        }
      ]
    },
    {
      "cell_type": "markdown",
      "metadata": {
        "id": "U_x7lIHzRY9-"
      },
      "source": [
        "# Part2: Data Cleaning and Preparation:\n",
        "\n",
        "Check the categorical variables, we need to convert them into numerical columns.\n",
        "\n",
        "1. Use `pd.get_dummies()` to create dummy columns for categorical columns: \n",
        "\n",
        "2. Concatenate the dummy columns with the main data and clean it\n",
        "  * Drop the **Parent columns of dummy columns** from dataframe\n",
        "\n",
        "3. Drop the columns that dont add value to prediction"
      ]
    },
    {
      "cell_type": "markdown",
      "metadata": {
        "id": "7RUr9GWZsJIm"
      },
      "source": [
        "## Create Dummy Variables"
      ]
    },
    {
      "cell_type": "code",
      "metadata": {
        "id": "5bHdtVxp0gq1"
      },
      "source": [
        "train_df = pd.get_dummies(train_df, columns = [\"gender\",\"geography\",\"age_bin\",\"balance_bin\",\"salary_bin\"],\n",
        "                             prefix=[\"gender\",\"geography\",\"age_type\",\"balance_type\",\"salary_type\"],drop_first=True)\n",
        "\n",
        "test_df = pd.get_dummies(test_df, columns = [\"gender\",\"geography\",\"age_bin\",\"balance_bin\",\"salary_bin\"],\n",
        "                             prefix=[\"gender\",\"geography\",\"age_type\",\"balance_type\",\"salary_type\"],drop_first=True)"
      ],
      "execution_count": null,
      "outputs": []
    },
    {
      "cell_type": "code",
      "metadata": {
        "colab": {
          "base_uri": "https://localhost:8080/",
          "height": 216
        },
        "id": "tdfgOAQ20gq1",
        "outputId": "e297b57d-4ca1-4774-e1aa-dcca618b87fc"
      },
      "source": [
        "train_df.head()"
      ],
      "execution_count": null,
      "outputs": [
        {
          "output_type": "execute_result",
          "data": {
            "text/html": [
              "<div>\n",
              "<style scoped>\n",
              "    .dataframe tbody tr th:only-of-type {\n",
              "        vertical-align: middle;\n",
              "    }\n",
              "\n",
              "    .dataframe tbody tr th {\n",
              "        vertical-align: top;\n",
              "    }\n",
              "\n",
              "    .dataframe thead th {\n",
              "        text-align: right;\n",
              "    }\n",
              "</style>\n",
              "<table border=\"1\" class=\"dataframe\">\n",
              "  <thead>\n",
              "    <tr style=\"text-align: right;\">\n",
              "      <th></th>\n",
              "      <th>rownumber</th>\n",
              "      <th>customerid</th>\n",
              "      <th>surname</th>\n",
              "      <th>creditscore</th>\n",
              "      <th>age</th>\n",
              "      <th>tenure</th>\n",
              "      <th>balance</th>\n",
              "      <th>numofproducts</th>\n",
              "      <th>hascrcard</th>\n",
              "      <th>isactivemember</th>\n",
              "      <th>estimatedsalary</th>\n",
              "      <th>exited</th>\n",
              "      <th>gender_Male</th>\n",
              "      <th>geography_Germany</th>\n",
              "      <th>geography_Spain</th>\n",
              "      <th>age_type_adult</th>\n",
              "      <th>age_type_elder</th>\n",
              "      <th>balance_type_low_balance</th>\n",
              "      <th>balance_type_medium_balance</th>\n",
              "      <th>balance_type_high_balance</th>\n",
              "      <th>salary_type_medium_salary</th>\n",
              "      <th>salary_type_high_salary</th>\n",
              "    </tr>\n",
              "  </thead>\n",
              "  <tbody>\n",
              "    <tr>\n",
              "      <th>0</th>\n",
              "      <td>1</td>\n",
              "      <td>15634602</td>\n",
              "      <td>Hargrave</td>\n",
              "      <td>619</td>\n",
              "      <td>42.0</td>\n",
              "      <td>2</td>\n",
              "      <td>0.00</td>\n",
              "      <td>1</td>\n",
              "      <td>1</td>\n",
              "      <td>1</td>\n",
              "      <td>101348.88</td>\n",
              "      <td>1</td>\n",
              "      <td>0</td>\n",
              "      <td>0</td>\n",
              "      <td>0</td>\n",
              "      <td>0</td>\n",
              "      <td>1</td>\n",
              "      <td>0</td>\n",
              "      <td>0</td>\n",
              "      <td>0</td>\n",
              "      <td>1</td>\n",
              "      <td>0</td>\n",
              "    </tr>\n",
              "    <tr>\n",
              "      <th>1</th>\n",
              "      <td>2</td>\n",
              "      <td>15647311</td>\n",
              "      <td>Hill</td>\n",
              "      <td>608</td>\n",
              "      <td>41.0</td>\n",
              "      <td>1</td>\n",
              "      <td>83807.86</td>\n",
              "      <td>1</td>\n",
              "      <td>0</td>\n",
              "      <td>1</td>\n",
              "      <td>112542.58</td>\n",
              "      <td>0</td>\n",
              "      <td>0</td>\n",
              "      <td>0</td>\n",
              "      <td>1</td>\n",
              "      <td>0</td>\n",
              "      <td>1</td>\n",
              "      <td>0</td>\n",
              "      <td>1</td>\n",
              "      <td>0</td>\n",
              "      <td>1</td>\n",
              "      <td>0</td>\n",
              "    </tr>\n",
              "    <tr>\n",
              "      <th>2</th>\n",
              "      <td>3</td>\n",
              "      <td>15619304</td>\n",
              "      <td>Onio</td>\n",
              "      <td>502</td>\n",
              "      <td>42.0</td>\n",
              "      <td>8</td>\n",
              "      <td>159660.80</td>\n",
              "      <td>3</td>\n",
              "      <td>1</td>\n",
              "      <td>0</td>\n",
              "      <td>113931.57</td>\n",
              "      <td>1</td>\n",
              "      <td>0</td>\n",
              "      <td>0</td>\n",
              "      <td>0</td>\n",
              "      <td>0</td>\n",
              "      <td>1</td>\n",
              "      <td>0</td>\n",
              "      <td>0</td>\n",
              "      <td>1</td>\n",
              "      <td>1</td>\n",
              "      <td>0</td>\n",
              "    </tr>\n",
              "    <tr>\n",
              "      <th>3</th>\n",
              "      <td>4</td>\n",
              "      <td>15701354</td>\n",
              "      <td>Boni</td>\n",
              "      <td>699</td>\n",
              "      <td>39.0</td>\n",
              "      <td>1</td>\n",
              "      <td>0.00</td>\n",
              "      <td>2</td>\n",
              "      <td>0</td>\n",
              "      <td>0</td>\n",
              "      <td>93826.63</td>\n",
              "      <td>0</td>\n",
              "      <td>0</td>\n",
              "      <td>0</td>\n",
              "      <td>0</td>\n",
              "      <td>1</td>\n",
              "      <td>0</td>\n",
              "      <td>0</td>\n",
              "      <td>0</td>\n",
              "      <td>0</td>\n",
              "      <td>1</td>\n",
              "      <td>0</td>\n",
              "    </tr>\n",
              "    <tr>\n",
              "      <th>4</th>\n",
              "      <td>5</td>\n",
              "      <td>15737888</td>\n",
              "      <td>Mitchell</td>\n",
              "      <td>850</td>\n",
              "      <td>43.0</td>\n",
              "      <td>2</td>\n",
              "      <td>125510.82</td>\n",
              "      <td>1</td>\n",
              "      <td>1</td>\n",
              "      <td>1</td>\n",
              "      <td>79084.10</td>\n",
              "      <td>0</td>\n",
              "      <td>0</td>\n",
              "      <td>0</td>\n",
              "      <td>1</td>\n",
              "      <td>0</td>\n",
              "      <td>1</td>\n",
              "      <td>0</td>\n",
              "      <td>1</td>\n",
              "      <td>0</td>\n",
              "      <td>1</td>\n",
              "      <td>0</td>\n",
              "    </tr>\n",
              "  </tbody>\n",
              "</table>\n",
              "</div>"
            ],
            "text/plain": [
              "   rownumber  customerid  ... salary_type_medium_salary  salary_type_high_salary\n",
              "0          1    15634602  ...                         1                        0\n",
              "1          2    15647311  ...                         1                        0\n",
              "2          3    15619304  ...                         1                        0\n",
              "3          4    15701354  ...                         1                        0\n",
              "4          5    15737888  ...                         1                        0\n",
              "\n",
              "[5 rows x 22 columns]"
            ]
          },
          "metadata": {
            "tags": []
          },
          "execution_count": 66
        }
      ]
    },
    {
      "cell_type": "code",
      "metadata": {
        "colab": {
          "base_uri": "https://localhost:8080/"
        },
        "id": "gGO03Crg0gq1",
        "outputId": "aa3fcf7a-b6da-4548-bca3-a44531c271da"
      },
      "source": [
        "(train_df.columns)"
      ],
      "execution_count": null,
      "outputs": [
        {
          "output_type": "execute_result",
          "data": {
            "text/plain": [
              "Index(['rownumber', 'customerid', 'surname', 'creditscore', 'age', 'tenure',\n",
              "       'balance', 'numofproducts', 'hascrcard', 'isactivemember',\n",
              "       'estimatedsalary', 'exited', 'gender_Male', 'geography_Germany',\n",
              "       'geography_Spain', 'age_type_adult', 'age_type_elder',\n",
              "       'balance_type_low_balance', 'balance_type_medium_balance',\n",
              "       'balance_type_high_balance', 'salary_type_medium_salary',\n",
              "       'salary_type_high_salary'],\n",
              "      dtype='object')"
            ]
          },
          "metadata": {
            "tags": []
          },
          "execution_count": 67
        }
      ]
    },
    {
      "cell_type": "markdown",
      "metadata": {
        "id": "NIwAGPhOuFCy"
      },
      "source": [
        "## remove unnecessary columns"
      ]
    },
    {
      "cell_type": "code",
      "metadata": {
        "id": "-k2wUzl80gq1"
      },
      "source": [
        "drop_column = ['rownumber', 'customerid', 'surname', 'age', \n",
        "       'balance','estimatedsalary']\n",
        "train_df.drop(drop_column, axis=1, inplace = True)\n",
        "test_df.drop(drop_column, axis=1, inplace = True)\n"
      ],
      "execution_count": null,
      "outputs": []
    },
    {
      "cell_type": "code",
      "metadata": {
        "colab": {
          "base_uri": "https://localhost:8080/",
          "height": 216
        },
        "id": "EkDOlS0a0gq1",
        "outputId": "1d8c2a0a-9e35-474e-9773-646b6306e76a"
      },
      "source": [
        "pd.set_option('display.max_columns', None)\n",
        "train_df.head()"
      ],
      "execution_count": null,
      "outputs": [
        {
          "output_type": "execute_result",
          "data": {
            "text/html": [
              "<div>\n",
              "<style scoped>\n",
              "    .dataframe tbody tr th:only-of-type {\n",
              "        vertical-align: middle;\n",
              "    }\n",
              "\n",
              "    .dataframe tbody tr th {\n",
              "        vertical-align: top;\n",
              "    }\n",
              "\n",
              "    .dataframe thead th {\n",
              "        text-align: right;\n",
              "    }\n",
              "</style>\n",
              "<table border=\"1\" class=\"dataframe\">\n",
              "  <thead>\n",
              "    <tr style=\"text-align: right;\">\n",
              "      <th></th>\n",
              "      <th>creditscore</th>\n",
              "      <th>tenure</th>\n",
              "      <th>numofproducts</th>\n",
              "      <th>hascrcard</th>\n",
              "      <th>isactivemember</th>\n",
              "      <th>exited</th>\n",
              "      <th>gender_Male</th>\n",
              "      <th>geography_Germany</th>\n",
              "      <th>geography_Spain</th>\n",
              "      <th>age_type_adult</th>\n",
              "      <th>age_type_elder</th>\n",
              "      <th>balance_type_low_balance</th>\n",
              "      <th>balance_type_medium_balance</th>\n",
              "      <th>balance_type_high_balance</th>\n",
              "      <th>salary_type_medium_salary</th>\n",
              "      <th>salary_type_high_salary</th>\n",
              "    </tr>\n",
              "  </thead>\n",
              "  <tbody>\n",
              "    <tr>\n",
              "      <th>0</th>\n",
              "      <td>619</td>\n",
              "      <td>2</td>\n",
              "      <td>1</td>\n",
              "      <td>1</td>\n",
              "      <td>1</td>\n",
              "      <td>1</td>\n",
              "      <td>0</td>\n",
              "      <td>0</td>\n",
              "      <td>0</td>\n",
              "      <td>0</td>\n",
              "      <td>1</td>\n",
              "      <td>0</td>\n",
              "      <td>0</td>\n",
              "      <td>0</td>\n",
              "      <td>1</td>\n",
              "      <td>0</td>\n",
              "    </tr>\n",
              "    <tr>\n",
              "      <th>1</th>\n",
              "      <td>608</td>\n",
              "      <td>1</td>\n",
              "      <td>1</td>\n",
              "      <td>0</td>\n",
              "      <td>1</td>\n",
              "      <td>0</td>\n",
              "      <td>0</td>\n",
              "      <td>0</td>\n",
              "      <td>1</td>\n",
              "      <td>0</td>\n",
              "      <td>1</td>\n",
              "      <td>0</td>\n",
              "      <td>1</td>\n",
              "      <td>0</td>\n",
              "      <td>1</td>\n",
              "      <td>0</td>\n",
              "    </tr>\n",
              "    <tr>\n",
              "      <th>2</th>\n",
              "      <td>502</td>\n",
              "      <td>8</td>\n",
              "      <td>3</td>\n",
              "      <td>1</td>\n",
              "      <td>0</td>\n",
              "      <td>1</td>\n",
              "      <td>0</td>\n",
              "      <td>0</td>\n",
              "      <td>0</td>\n",
              "      <td>0</td>\n",
              "      <td>1</td>\n",
              "      <td>0</td>\n",
              "      <td>0</td>\n",
              "      <td>1</td>\n",
              "      <td>1</td>\n",
              "      <td>0</td>\n",
              "    </tr>\n",
              "    <tr>\n",
              "      <th>3</th>\n",
              "      <td>699</td>\n",
              "      <td>1</td>\n",
              "      <td>2</td>\n",
              "      <td>0</td>\n",
              "      <td>0</td>\n",
              "      <td>0</td>\n",
              "      <td>0</td>\n",
              "      <td>0</td>\n",
              "      <td>0</td>\n",
              "      <td>1</td>\n",
              "      <td>0</td>\n",
              "      <td>0</td>\n",
              "      <td>0</td>\n",
              "      <td>0</td>\n",
              "      <td>1</td>\n",
              "      <td>0</td>\n",
              "    </tr>\n",
              "    <tr>\n",
              "      <th>4</th>\n",
              "      <td>850</td>\n",
              "      <td>2</td>\n",
              "      <td>1</td>\n",
              "      <td>1</td>\n",
              "      <td>1</td>\n",
              "      <td>0</td>\n",
              "      <td>0</td>\n",
              "      <td>0</td>\n",
              "      <td>1</td>\n",
              "      <td>0</td>\n",
              "      <td>1</td>\n",
              "      <td>0</td>\n",
              "      <td>1</td>\n",
              "      <td>0</td>\n",
              "      <td>1</td>\n",
              "      <td>0</td>\n",
              "    </tr>\n",
              "  </tbody>\n",
              "</table>\n",
              "</div>"
            ],
            "text/plain": [
              "   creditscore  tenure  numofproducts  hascrcard  isactivemember  exited  \\\n",
              "0          619       2              1          1               1       1   \n",
              "1          608       1              1          0               1       0   \n",
              "2          502       8              3          1               0       1   \n",
              "3          699       1              2          0               0       0   \n",
              "4          850       2              1          1               1       0   \n",
              "\n",
              "   gender_Male  geography_Germany  geography_Spain  age_type_adult  \\\n",
              "0            0                  0                0               0   \n",
              "1            0                  0                1               0   \n",
              "2            0                  0                0               0   \n",
              "3            0                  0                0               1   \n",
              "4            0                  0                1               0   \n",
              "\n",
              "   age_type_elder  balance_type_low_balance  balance_type_medium_balance  \\\n",
              "0               1                         0                            0   \n",
              "1               1                         0                            1   \n",
              "2               1                         0                            0   \n",
              "3               0                         0                            0   \n",
              "4               1                         0                            1   \n",
              "\n",
              "   balance_type_high_balance  salary_type_medium_salary  \\\n",
              "0                          0                          1   \n",
              "1                          0                          1   \n",
              "2                          1                          1   \n",
              "3                          0                          1   \n",
              "4                          0                          1   \n",
              "\n",
              "   salary_type_high_salary  \n",
              "0                        0  \n",
              "1                        0  \n",
              "2                        0  \n",
              "3                        0  \n",
              "4                        0  "
            ]
          },
          "metadata": {
            "tags": []
          },
          "execution_count": 69
        }
      ]
    },
    {
      "cell_type": "code",
      "metadata": {
        "colab": {
          "base_uri": "https://localhost:8080/"
        },
        "id": "jD6XpN910gq2",
        "outputId": "900c8599-a8b9-42d3-fa5b-dffe083fa5cd"
      },
      "source": [
        "traindf=train_df\n",
        "testdf=test_df\n",
        "\n",
        "traindf.shape,train_df.shape"
      ],
      "execution_count": null,
      "outputs": [
        {
          "output_type": "execute_result",
          "data": {
            "text/plain": [
              "((8000, 16), (8000, 16))"
            ]
          },
          "metadata": {
            "tags": []
          },
          "execution_count": 70
        }
      ]
    },
    {
      "cell_type": "markdown",
      "metadata": {
        "id": "FVi1j_o6uFCy"
      },
      "source": [
        "# Part3: Create 2 data sets : train & test"
      ]
    },
    {
      "cell_type": "code",
      "metadata": {
        "id": "QGbX1d6J0gq2"
      },
      "source": [
        "from sklearn.model_selection import train_test_split \n",
        "from sklearn.metrics import accuracy_score \n",
        "from sklearn.model_selection import KFold \n",
        "from sklearn.model_selection import cross_val_score \n",
        "from sklearn.model_selection import cross_val_predict\n",
        "from sklearn.metrics import confusion_matrix \n",
        "from sklearn.metrics import confusion_matrix , classification_report"
      ],
      "execution_count": null,
      "outputs": []
    },
    {
      "cell_type": "code",
      "metadata": {
        "colab": {
          "base_uri": "https://localhost:8080/"
        },
        "id": "n-hluRmL0gq2",
        "outputId": "b1107d7e-a390-4c7b-fc27-91aaa393828a"
      },
      "source": [
        "all_features = traindf.drop(\"exited\",axis=1)\n",
        "Targeted_feature = traindf[\"exited\"]\n",
        "\n",
        "X_train,X_test,y_train,y_test = train_test_split(all_features,Targeted_feature,test_size=0.3,random_state=42)\n",
        "X_train.shape,X_test.shape,y_train.shape,y_test.shape"
      ],
      "execution_count": null,
      "outputs": [
        {
          "output_type": "execute_result",
          "data": {
            "text/plain": [
              "((5600, 15), (2400, 15), (5600,), (2400,))"
            ]
          },
          "metadata": {
            "tags": []
          },
          "execution_count": 72
        }
      ]
    },
    {
      "cell_type": "markdown",
      "metadata": {
        "id": "jjzs3GhM0gq2"
      },
      "source": [
        "## Logistic Regression"
      ]
    },
    {
      "cell_type": "markdown",
      "metadata": {
        "id": "f1pW0CEQuFCy"
      },
      "source": [
        "###  (1). For Logistic Regression: use p-values and VIF before final model building."
      ]
    },
    {
      "cell_type": "code",
      "metadata": {
        "id": "wZNQzREe0gq2"
      },
      "source": [
        "from sklearn.linear_model import LogisticRegression\n",
        "model = LogisticRegression()\n",
        "model.fit(X_train,y_train)\n",
        "prediction_lr=model.predict(X_test)"
      ],
      "execution_count": null,
      "outputs": []
    },
    {
      "cell_type": "code",
      "metadata": {
        "colab": {
          "base_uri": "https://localhost:8080/"
        },
        "id": "SsDF2YiV0gq2",
        "outputId": "c93038ca-bf6d-47bc-960e-05bbfdc2ac6b"
      },
      "source": [
        "accuracy = round(accuracy_score(prediction_lr,y_test)*100,2)\n",
        "print('The accuracy of the Logistic Regression is',accuracy)"
      ],
      "execution_count": null,
      "outputs": [
        {
          "output_type": "stream",
          "text": [
            "The accuracy of the Logistic Regression is 82.12\n"
          ],
          "name": "stdout"
        }
      ]
    },
    {
      "cell_type": "code",
      "metadata": {
        "colab": {
          "base_uri": "https://localhost:8080/"
        },
        "id": "X0beMAP00gq3",
        "outputId": "d5407b7e-cb8e-4622-e75e-935d4d33105f"
      },
      "source": [
        "kfold = KFold(n_splits=10, random_state=22) # k=10, split the data into 10 equal parts\n",
        "result_lr=cross_val_score(model,all_features,Targeted_feature,cv=10,scoring='accuracy')\n",
        "print('The cross validated score for Logistic REgression is:',round(result_lr.mean()*100,2))"
      ],
      "execution_count": null,
      "outputs": [
        {
          "output_type": "stream",
          "text": [
            "The cross validated score for Logistic REgression is: 81.88\n"
          ],
          "name": "stdout"
        }
      ]
    },
    {
      "cell_type": "code",
      "metadata": {
        "colab": {
          "base_uri": "https://localhost:8080/",
          "height": 300
        },
        "id": "vXdU9KKq0gq3",
        "outputId": "e9fab1e7-69b3-47fe-8c95-132682022cb8"
      },
      "source": [
        "y_pred = cross_val_predict(model,all_features,Targeted_feature,cv=10)\n",
        "sns.heatmap(confusion_matrix(Targeted_feature,y_pred),annot=True,fmt='3.0f',cmap=\"summer\")\n",
        "plt.title('Confusion_matrix', y=1.05, size=15)"
      ],
      "execution_count": null,
      "outputs": [
        {
          "output_type": "execute_result",
          "data": {
            "text/plain": [
              "Text(0.5, 1.05, 'Confusion_matrix')"
            ]
          },
          "metadata": {
            "tags": []
          },
          "execution_count": 76
        },
        {
          "output_type": "display_data",
          "data": {
            "image/png": "[encoded data removed]",
            "text/plain": [
              "<Figure size 432x288 with 2 Axes>"
            ]
          },
          "metadata": {
            "tags": [],
            "needs_background": "light"
          }
        }
      ]
    },
    {
      "cell_type": "code",
      "metadata": {
        "colab": {
          "base_uri": "https://localhost:8080/"
        },
        "id": "lUGjI3r1uFCy",
        "outputId": "0ad1812d-6130-4073-e1e7-64b7d86142b9"
      },
      "source": [
        "print(classification_report(Targeted_feature,y_pred))"
      ],
      "execution_count": null,
      "outputs": [
        {
          "output_type": "stream",
          "text": [
            "              precision    recall  f1-score   support\n",
            "\n",
            "           0       0.84      0.96      0.89      6353\n",
            "           1       0.63      0.29      0.40      1647\n",
            "\n",
            "    accuracy                           0.82      8000\n",
            "   macro avg       0.73      0.62      0.64      8000\n",
            "weighted avg       0.80      0.82      0.79      8000\n",
            "\n"
          ],
          "name": "stdout"
        }
      ]
    },
    {
      "cell_type": "code",
      "metadata": {
        "colab": {
          "base_uri": "https://localhost:8080/"
        },
        "id": "qQlNk6cL0gq3",
        "outputId": "81c8328d-0e45-41ca-d680-b330b2027bd6"
      },
      "source": [
        "(X_train.columns)"
      ],
      "execution_count": null,
      "outputs": [
        {
          "output_type": "execute_result",
          "data": {
            "text/plain": [
              "Index(['creditscore', 'tenure', 'numofproducts', 'hascrcard', 'isactivemember',\n",
              "       'gender_Male', 'geography_Germany', 'geography_Spain', 'age_type_adult',\n",
              "       'age_type_elder', 'balance_type_low_balance',\n",
              "       'balance_type_medium_balance', 'balance_type_high_balance',\n",
              "       'salary_type_medium_salary', 'salary_type_high_salary'],\n",
              "      dtype='object')"
            ]
          },
          "metadata": {
            "tags": []
          },
          "execution_count": 78
        }
      ]
    },
    {
      "cell_type": "code",
      "metadata": {
        "colab": {
          "base_uri": "https://localhost:8080/"
        },
        "id": "98CKjWd30gq3",
        "outputId": "a3b9f6e2-f1fc-49a0-b52c-82aa53f4b2ff"
      },
      "source": [
        "import statsmodels.api as sm\n",
        "# m1=sm.Logit(Fiber['active_cust'],Fiber[[\"income\"]+['months_on_network']+['Num_complaints']+['number_plan_changes']+['relocated']+['monthly_bill']+['technical_issues_per_month']+['Speed_test_result']])\n",
        "m1=sm.Logit(train_df['exited'],train_df[['creditscore']+['tenure']+['numofproducts']+['hascrcard']+['isactivemember']+['gender_Male']+['geography_Germany']+['geography_Spain']+['age_type_adult']+['age_type_elder']+['balance_type_low_balance']+['balance_type_medium_balance']+['balance_type_high_balance']+['salary_type_medium_salary']+['salary_type_high_salary']])\n",
        "m1.fit()\n",
        "print(m1.fit().summary())"
      ],
      "execution_count": null,
      "outputs": [
        {
          "output_type": "stream",
          "text": [
            "Optimization terminated successfully.\n",
            "         Current function value: 0.420407\n",
            "         Iterations 6\n",
            "Optimization terminated successfully.\n",
            "         Current function value: 0.420407\n",
            "         Iterations 6\n",
            "                           Logit Regression Results                           \n",
            "==============================================================================\n",
            "Dep. Variable:                 exited   No. Observations:                 8000\n",
            "Model:                          Logit   Df Residuals:                     7985\n",
            "Method:                           MLE   Df Model:                           14\n",
            "Date:                Tue, 01 Dec 2020   Pseudo R-squ.:                  0.1731\n",
            "Time:                        18:18:21   Log-Likelihood:                -3363.3\n",
            "converged:                       True   LL-Null:                       -4067.5\n",
            "Covariance Type:            nonrobust   LLR p-value:                2.365e-292\n",
            "===============================================================================================\n",
            "                                  coef    std err          z      P>|z|      [0.025      0.975]\n",
            "-----------------------------------------------------------------------------------------------\n",
            "creditscore                    -0.0007      0.000     -2.297      0.022      -0.001      -0.000\n",
            "tenure                         -0.0148      0.011     -1.403      0.161      -0.036       0.006\n",
            "numofproducts                  -0.1182      0.053     -2.246      0.025      -0.221      -0.015\n",
            "hascrcard                      -0.0265      0.067     -0.398      0.691      -0.157       0.104\n",
            "isactivemember                 -1.0132      0.063    -16.012      0.000      -1.137      -0.889\n",
            "gender_Male                    -0.5815      0.062     -9.456      0.000      -0.702      -0.461\n",
            "geography_Germany               0.7223      0.079      9.175      0.000       0.568       0.877\n",
            "geography_Spain                -0.0148      0.079     -0.186      0.852      -0.170       0.141\n",
            "age_type_adult                 -1.1214      0.238     -4.713      0.000      -1.588      -0.655\n",
            "age_type_elder                  0.6186      0.238      2.597      0.009       0.152       1.085\n",
            "balance_type_low_balance        0.9464      0.315      3.003      0.003       0.329       1.564\n",
            "balance_type_medium_balance     0.2919      0.081      3.594      0.000       0.133       0.451\n",
            "balance_type_high_balance       0.3851      0.114      3.372      0.001       0.161       0.609\n",
            "salary_type_medium_salary      -0.0640      0.076     -0.846      0.397      -0.212       0.084\n",
            "salary_type_high_salary         0.0549      0.075      0.735      0.462      -0.091       0.201\n",
            "===============================================================================================\n"
          ],
          "name": "stdout"
        }
      ]
    },
    {
      "cell_type": "code",
      "metadata": {
        "id": "GIvfLW9_CUUN"
      },
      "source": [
        "import statsmodels.formula.api as sm\n",
        "\n",
        "def vif_cal(input_data, dependent_col):\n",
        "    x_vars=input_data.drop([dependent_col], axis=1)\n",
        "    xvar_names=x_vars.columns\n",
        "    for i in range(0,xvar_names.shape[0]):\n",
        "        y=x_vars[xvar_names[i]] \n",
        "        x=x_vars[xvar_names.drop(xvar_names[i])]\n",
        "        rsq=sm.ols(formula=\"y~x\", data=x_vars).fit().rsquared  \n",
        "        vif=round(1/(1-rsq),2)\n",
        "        print (xvar_names[i], \" VIF = \" , vif)"
      ],
      "execution_count": null,
      "outputs": []
    },
    {
      "cell_type": "code",
      "metadata": {
        "colab": {
          "base_uri": "https://localhost:8080/"
        },
        "id": "wHTZRYGkYMK-",
        "outputId": "c21ea984-c3c0-42c0-c87a-256a4c352812"
      },
      "source": [
        "vif_cal(input_data=traindf, dependent_col=\"exited\")"
      ],
      "execution_count": null,
      "outputs": [
        {
          "output_type": "stream",
          "text": [
            "creditscore  VIF =  1.0\n",
            "tenure  VIF =  1.0\n",
            "numofproducts  VIF =  1.15\n",
            "hascrcard  VIF =  1.0\n",
            "isactivemember  VIF =  1.0\n",
            "gender_Male  VIF =  1.0\n",
            "geography_Germany  VIF =  1.4\n",
            "geography_Spain  VIF =  1.13\n",
            "age_type_adult  VIF =  132.85\n",
            "age_type_elder  VIF =  132.88\n",
            "balance_type_low_balance  VIF =  1.02\n",
            "balance_type_medium_balance  VIF =  1.63\n",
            "balance_type_high_balance  VIF =  1.27\n",
            "salary_type_medium_salary  VIF =  1.34\n",
            "salary_type_high_salary  VIF =  1.34\n"
          ],
          "name": "stdout"
        }
      ]
    },
    {
      "cell_type": "code",
      "metadata": {
        "colab": {
          "base_uri": "https://localhost:8080/"
        },
        "id": "nllw4tIiuFCy",
        "outputId": "fa0af7f1-6d92-4783-83d0-ace950b3aa9f"
      },
      "source": [
        "import statsmodels.api as sm\n",
        "# m1=sm.Logit(Fiber['active_cust'],Fiber[[\"income\"]+['months_on_network']+['Num_complaints']+['number_plan_changes']+['relocated']+['monthly_bill']+['technical_issues_per_month']+['Speed_test_result']])\n",
        "m2=sm.Logit(train_df['exited'],train_df[['creditscore']+['tenure']+['numofproducts']+['hascrcard']+['isactivemember']+['gender_Male']+['geography_Germany']+['age_type_adult']+['age_type_elder']+['balance_type_low_balance']+['balance_type_medium_balance']+['balance_type_high_balance']])\n",
        "m2.fit()\n",
        "print(m2.fit().summary())"
      ],
      "execution_count": null,
      "outputs": [
        {
          "output_type": "stream",
          "text": [
            "Optimization terminated successfully.\n",
            "         Current function value: 0.420565\n",
            "         Iterations 6\n",
            "Optimization terminated successfully.\n",
            "         Current function value: 0.420565\n",
            "         Iterations 6\n",
            "                           Logit Regression Results                           \n",
            "==============================================================================\n",
            "Dep. Variable:                 exited   No. Observations:                 8000\n",
            "Model:                          Logit   Df Residuals:                     7988\n",
            "Method:                           MLE   Df Model:                           11\n",
            "Date:                Tue, 01 Dec 2020   Pseudo R-squ.:                  0.1728\n",
            "Time:                        18:18:21   Log-Likelihood:                -3364.5\n",
            "converged:                       True   LL-Null:                       -4067.5\n",
            "Covariance Type:            nonrobust   LLR p-value:                6.141e-295\n",
            "===============================================================================================\n",
            "                                  coef    std err          z      P>|z|      [0.025      0.975]\n",
            "-----------------------------------------------------------------------------------------------\n",
            "creditscore                    -0.0007      0.000     -2.283      0.022      -0.001   -9.79e-05\n",
            "tenure                         -0.0145      0.011     -1.372      0.170      -0.035       0.006\n",
            "numofproducts                  -0.1177      0.053     -2.239      0.025      -0.221      -0.015\n",
            "hascrcard                      -0.0268      0.067     -0.402      0.688      -0.157       0.104\n",
            "isactivemember                 -1.0143      0.063    -16.033      0.000      -1.138      -0.890\n",
            "gender_Male                    -0.5806      0.061     -9.444      0.000      -0.701      -0.460\n",
            "geography_Germany               0.7294      0.074      9.858      0.000       0.584       0.874\n",
            "age_type_adult                 -1.1347      0.233     -4.870      0.000      -1.591      -0.678\n",
            "age_type_elder                  0.6054      0.233      2.597      0.009       0.148       1.062\n",
            "balance_type_low_balance        0.9453      0.315      3.001      0.003       0.328       1.563\n",
            "balance_type_medium_balance     0.2915      0.081      3.592      0.000       0.132       0.451\n",
            "balance_type_high_balance       0.3849      0.114      3.372      0.001       0.161       0.609\n",
            "===============================================================================================\n"
          ],
          "name": "stdout"
        }
      ]
    },
    {
      "cell_type": "markdown",
      "metadata": {
        "id": "blJJ-tu-uFCy"
      },
      "source": [
        "###  (2). For Decision Trees try to build few models using various combinations of depth, max leaf size  and other model parameters and identify the best model"
      ]
    },
    {
      "cell_type": "markdown",
      "metadata": {
        "id": "i02jAHTe0gq4"
      },
      "source": [
        "## Decision Tree"
      ]
    },
    {
      "cell_type": "code",
      "metadata": {
        "id": "Dccnlpa50gq4"
      },
      "source": [
        "from sklearn.tree import DecisionTreeClassifier\n",
        "dtreemodel= DecisionTreeClassifier(criterion='gini', \n",
        "                             min_samples_split=10,min_samples_leaf=1,\n",
        "                             max_features='auto', max_depth= 4)\n",
        "dtreemodel.fit(X_train,y_train)\n",
        "dtree_prediction_tree=dtreemodel.predict(X_test)"
      ],
      "execution_count": null,
      "outputs": []
    },
    {
      "cell_type": "code",
      "metadata": {
        "colab": {
          "base_uri": "https://localhost:8080/"
        },
        "id": "BIVmGCtC0gq4",
        "outputId": "21bf4e23-96f9-4e26-9557-50f1cd2cc6bc"
      },
      "source": [
        "print('The accuracy of the DecisionTree Classifier is',round(accuracy_score(dtree_prediction_tree,y_test)*100,2))"
      ],
      "execution_count": null,
      "outputs": [
        {
          "output_type": "stream",
          "text": [
            "The accuracy of the DecisionTree Classifier is 83.67\n"
          ],
          "name": "stdout"
        }
      ]
    },
    {
      "cell_type": "code",
      "metadata": {
        "colab": {
          "base_uri": "https://localhost:8080/"
        },
        "id": "gdXZUI1Z0gq4",
        "outputId": "2029b737-4f02-4cdd-e9bf-8499974b9e04"
      },
      "source": [
        "kfold = KFold(n_splits=10, random_state=22) # k=10, split the data into 10 equal parts\n",
        "result_tree=cross_val_score(dtreemodel,all_features,Targeted_feature,cv=10,scoring='accuracy')\n",
        "print('The cross validated score for Decision Tree classifier is:',round(result_tree.mean()*100,2))"
      ],
      "execution_count": null,
      "outputs": [
        {
          "output_type": "stream",
          "text": [
            "The cross validated score for Decision Tree classifier is: 80.92\n"
          ],
          "name": "stdout"
        }
      ]
    },
    {
      "cell_type": "code",
      "metadata": {
        "colab": {
          "base_uri": "https://localhost:8080/",
          "height": 300
        },
        "id": "qS4ENnin0gq4",
        "outputId": "2daa9b33-826f-4f67-b764-a6c3a665a776"
      },
      "source": [
        "y_pred = cross_val_predict(dtreemodel,all_features,Targeted_feature,cv=10)\n",
        "sns.heatmap(confusion_matrix(Targeted_feature,y_pred),annot=True,fmt='3.0f',cmap=\"summer\")\n",
        "plt.title('Confusion_matrix',y=1.05, size=15)"
      ],
      "execution_count": null,
      "outputs": [
        {
          "output_type": "execute_result",
          "data": {
            "text/plain": [
              "Text(0.5, 1.05, 'Confusion_matrix')"
            ]
          },
          "metadata": {
            "tags": []
          },
          "execution_count": 86
        },
        {
          "output_type": "display_data",
          "data": {
            "image/png": "[encoded data removed]",
            "text/plain": [
              "<Figure size 432x288 with 2 Axes>"
            ]
          },
          "metadata": {
            "tags": [],
            "needs_background": "light"
          }
        }
      ]
    },
    {
      "cell_type": "code",
      "metadata": {
        "colab": {
          "base_uri": "https://localhost:8080/"
        },
        "id": "_qPnD6hkuFCy",
        "outputId": "733f54f0-3d03-421e-9ada-c074cf6f2bd6"
      },
      "source": [
        "print(classification_report(Targeted_feature,y_pred))"
      ],
      "execution_count": null,
      "outputs": [
        {
          "output_type": "stream",
          "text": [
            "              precision    recall  f1-score   support\n",
            "\n",
            "           0       0.84      0.95      0.89      6353\n",
            "           1       0.62      0.28      0.39      1647\n",
            "\n",
            "    accuracy                           0.82      8000\n",
            "   macro avg       0.73      0.62      0.64      8000\n",
            "weighted avg       0.79      0.82      0.79      8000\n",
            "\n"
          ],
          "name": "stdout"
        }
      ]
    },
    {
      "cell_type": "markdown",
      "metadata": {
        "id": "3t2OQcoiuFCy"
      },
      "source": [
        "### (3). For Random Forest try to build few models using various combinations of # of trees, Depth and max leaf size  and other model parameters and identify the best model"
      ]
    },
    {
      "cell_type": "markdown",
      "metadata": {
        "id": "RAJYlwtJ0gq4"
      },
      "source": [
        "## Random Forest Classifier"
      ]
    },
    {
      "cell_type": "code",
      "metadata": {
        "id": "uR60ieni0gq4"
      },
      "source": [
        "from sklearn.ensemble import RandomForestClassifier\n",
        "rfmodel = RandomForestClassifier(criterion='gini', n_estimators=500,\n",
        "                             min_samples_split=10,min_samples_leaf=1,max_depth=4)"
      ],
      "execution_count": null,
      "outputs": []
    },
    {
      "cell_type": "code",
      "metadata": {
        "colab": {
          "base_uri": "https://localhost:8080/"
        },
        "id": "NV_uh07w0gq4",
        "outputId": "1e6bd7de-66bb-445b-f174-d00c5b76e4a6"
      },
      "source": [
        "rfmodel.fit(X_train,y_train)\n",
        "rfprediction_rm=rfmodel.predict(X_test)\n",
        "accuracy = round(accuracy_score(rfprediction_rm,y_test)*100,2)\n",
        "print('The accuracy of the Random Forest Classifier is',accuracy)"
      ],
      "execution_count": null,
      "outputs": [
        {
          "output_type": "stream",
          "text": [
            "The accuracy of the Random Forest Classifier is 82.75\n"
          ],
          "name": "stdout"
        }
      ]
    },
    {
      "cell_type": "code",
      "metadata": {
        "colab": {
          "base_uri": "https://localhost:8080/"
        },
        "id": "uwzcELHa0gq4",
        "outputId": "63db1bdc-87cf-482e-891f-e2983583dcf4"
      },
      "source": [
        "kfold = KFold(n_splits=10, random_state=22) # k=10, split the data into 10 equal parts\n",
        "result_rm=cross_val_score(rfmodel,all_features,Targeted_feature,cv=10,scoring='accuracy')\n",
        "print('The cross validated score for Random Forest Classifier is:',round(result_rm.mean()*100,2))"
      ],
      "execution_count": null,
      "outputs": [
        {
          "output_type": "stream",
          "text": [
            "The cross validated score for Random Forest Classifier is: 82.65\n"
          ],
          "name": "stdout"
        }
      ]
    },
    {
      "cell_type": "code",
      "metadata": {
        "colab": {
          "base_uri": "https://localhost:8080/",
          "height": 300
        },
        "id": "3GE_0Gco0gq5",
        "outputId": "94ed5dbf-2c4a-4653-b6e6-c727ae5a9404"
      },
      "source": [
        "y_pred = cross_val_predict(rfmodel,all_features,Targeted_feature,cv=10)\n",
        "sns.heatmap(confusion_matrix(Targeted_feature,y_pred),annot=True,fmt='3.0f',cmap=\"summer\")\n",
        "plt.title('Confusion_matrix_RF', y=1.05, size=15)"
      ],
      "execution_count": null,
      "outputs": [
        {
          "output_type": "execute_result",
          "data": {
            "text/plain": [
              "Text(0.5, 1.05, 'Confusion_matrix_RF')"
            ]
          },
          "metadata": {
            "tags": []
          },
          "execution_count": 91
        },
        {
          "output_type": "display_data",
          "data": {
            "image/png": "[encoded data removed]",
            "text/plain": [
              "<Figure size 432x288 with 2 Axes>"
            ]
          },
          "metadata": {
            "tags": [],
            "needs_background": "light"
          }
        }
      ]
    },
    {
      "cell_type": "code",
      "metadata": {
        "colab": {
          "base_uri": "https://localhost:8080/"
        },
        "id": "2xBUMn3MuFCz",
        "outputId": "5bd0e70a-7bc9-434e-e30c-099b279d46be"
      },
      "source": [
        "print(classification_report(Targeted_feature,y_pred))"
      ],
      "execution_count": null,
      "outputs": [
        {
          "output_type": "stream",
          "text": [
            "              precision    recall  f1-score   support\n",
            "\n",
            "           0       0.82      0.99      0.90      6353\n",
            "           1       0.88      0.18      0.30      1647\n",
            "\n",
            "    accuracy                           0.83      8000\n",
            "   macro avg       0.85      0.59      0.60      8000\n",
            "weighted avg       0.83      0.83      0.78      8000\n",
            "\n"
          ],
          "name": "stdout"
        }
      ]
    },
    {
      "cell_type": "markdown",
      "metadata": {
        "id": "NUD3Cajx0gq5"
      },
      "source": [
        "## Ada Boost Classifier"
      ]
    },
    {
      "cell_type": "code",
      "metadata": {
        "id": "sAnpuE-s0gq5"
      },
      "source": [
        "from sklearn.ensemble import AdaBoostClassifier\n",
        "ada_model= AdaBoostClassifier(n_estimators=1000)\n",
        "ada_model.fit(X_train,y_train)\n",
        "prediction_adb=ada_model.predict(X_test)"
      ],
      "execution_count": null,
      "outputs": []
    },
    {
      "cell_type": "code",
      "metadata": {
        "colab": {
          "base_uri": "https://localhost:8080/"
        },
        "id": "tOMhyodY0gq5",
        "outputId": "c9108503-6d5b-49d6-d8eb-d91826505a5e"
      },
      "source": [
        "print('The accuracy of the AdaBoostClassifier is',round(accuracy_score(prediction_adb,y_test)*100,2))"
      ],
      "execution_count": null,
      "outputs": [
        {
          "output_type": "stream",
          "text": [
            "The accuracy of the AdaBoostClassifier is 84.75\n"
          ],
          "name": "stdout"
        }
      ]
    },
    {
      "cell_type": "code",
      "metadata": {
        "colab": {
          "base_uri": "https://localhost:8080/"
        },
        "id": "QEmIyydh0gq5",
        "outputId": "e79c0d92-09f9-43fd-8796-74467e844860"
      },
      "source": [
        "kfold = KFold(n_splits=10, random_state=22) # k=10, split the data into 10 equal parts\n",
        "result_adb=cross_val_score(ada_model,all_features,Targeted_feature,cv=10,scoring='accuracy')\n",
        "print('The cross validated score for AdaBoostClassifier is:',round(result_adb.mean()*100,2))"
      ],
      "execution_count": null,
      "outputs": [
        {
          "output_type": "stream",
          "text": [
            "The cross validated score for AdaBoostClassifier is: 84.29\n"
          ],
          "name": "stdout"
        }
      ]
    },
    {
      "cell_type": "code",
      "metadata": {
        "colab": {
          "base_uri": "https://localhost:8080/"
        },
        "id": "y8hImzZd0gq5",
        "outputId": "e8a6205a-4f63-4f70-a152-9b75a1068c5f"
      },
      "source": [
        "from sklearn.metrics import f1_score\n",
        "boost_predict_test=model.predict(X_test)\n",
        "accuracy_test=f1_score(y_test, boost_predict_test, average='micro') \n",
        "print(\"test accuracy\", accuracy_test)"
      ],
      "execution_count": null,
      "outputs": [
        {
          "output_type": "stream",
          "text": [
            "test accuracy 0.82125\n"
          ],
          "name": "stdout"
        }
      ]
    },
    {
      "cell_type": "code",
      "metadata": {
        "colab": {
          "base_uri": "https://localhost:8080/",
          "height": 300
        },
        "id": "w_CO0anJ0gq5",
        "outputId": "e4249a93-0d4d-463b-f806-6f44da18b373"
      },
      "source": [
        "y_pred = cross_val_predict(ada_model,all_features,Targeted_feature,cv=10)\n",
        "sns.heatmap(confusion_matrix(Targeted_feature,y_pred),annot=True,fmt='3.0f',cmap=\"summer\")\n",
        "plt.title('Confusion_matrix_ADA', y=1.05, size=15)"
      ],
      "execution_count": null,
      "outputs": [
        {
          "output_type": "execute_result",
          "data": {
            "text/plain": [
              "Text(0.5, 1.05, 'Confusion_matrix_ADA')"
            ]
          },
          "metadata": {
            "tags": []
          },
          "execution_count": 97
        },
        {
          "output_type": "display_data",
          "data": {
            "image/png": "[encoded data removed]",
            "text/plain": [
              "<Figure size 432x288 with 2 Axes>"
            ]
          },
          "metadata": {
            "tags": [],
            "needs_background": "light"
          }
        }
      ]
    },
    {
      "cell_type": "code",
      "metadata": {
        "colab": {
          "base_uri": "https://localhost:8080/"
        },
        "id": "UcNzD2T7uFCz",
        "outputId": "616b374b-9611-460a-ee8c-564eb284d496"
      },
      "source": [
        "print(classification_report(Targeted_feature,y_pred))"
      ],
      "execution_count": null,
      "outputs": [
        {
          "output_type": "stream",
          "text": [
            "              precision    recall  f1-score   support\n",
            "\n",
            "           0       0.86      0.95      0.91      6353\n",
            "           1       0.70      0.41      0.52      1647\n",
            "\n",
            "    accuracy                           0.84      8000\n",
            "   macro avg       0.78      0.68      0.71      8000\n",
            "weighted avg       0.83      0.84      0.83      8000\n",
            "\n"
          ],
          "name": "stdout"
        }
      ]
    },
    {
      "cell_type": "markdown",
      "metadata": {
        "id": "UXNFYHeZuFCz"
      },
      "source": [
        "### (4).  For GBM try to build few models using various combinations of # of trees, Depth and max leaf size  and other model parameters and identify the best model"
      ]
    },
    {
      "cell_type": "markdown",
      "metadata": {
        "id": "hNJmczWU0gq6"
      },
      "source": [
        "## Gradient Decent"
      ]
    },
    {
      "cell_type": "code",
      "metadata": {
        "id": "a-0HNl_g0gq6"
      },
      "source": [
        "from sklearn.ensemble import GradientBoostingClassifier\n",
        "gd_model= GradientBoostingClassifier()\n",
        "gd_model.fit(X_train,y_train)\n",
        "prediction_gbc=gd_model.predict(X_test)"
      ],
      "execution_count": null,
      "outputs": []
    },
    {
      "cell_type": "code",
      "metadata": {
        "colab": {
          "base_uri": "https://localhost:8080/"
        },
        "id": "l6z8uZ610gq6",
        "outputId": "4fcca2cf-eefd-4667-ac3d-dbf6f98148d2"
      },
      "source": [
        "print('The accuracy of the Gradient Boosting Classifier is',round(accuracy_score(prediction_gbc,y_test)*100,2))"
      ],
      "execution_count": null,
      "outputs": [
        {
          "output_type": "stream",
          "text": [
            "The accuracy of the Gradient Boosting Classifier is 85.83\n"
          ],
          "name": "stdout"
        }
      ]
    },
    {
      "cell_type": "code",
      "metadata": {
        "colab": {
          "base_uri": "https://localhost:8080/"
        },
        "id": "OgHYVFKq0gq6",
        "outputId": "3675e8dd-bbe8-4c87-da4f-7c03bcc4a1ed"
      },
      "source": [
        "kfold = KFold(n_splits=10, random_state=22) # k=10, split the data into 10 equal parts\n",
        "result_gbc=cross_val_score(gd_model,all_features,Targeted_feature,cv=10,scoring='accuracy')\n",
        "print('The cross validated score for Gradient Boosting Classifier is:',round(result_gbc.mean()*100,2))"
      ],
      "execution_count": null,
      "outputs": [
        {
          "output_type": "stream",
          "text": [
            "The cross validated score for Gradient Boosting Classifier is: 85.35\n"
          ],
          "name": "stdout"
        }
      ]
    },
    {
      "cell_type": "code",
      "metadata": {
        "colab": {
          "base_uri": "https://localhost:8080/",
          "height": 300
        },
        "id": "3gZTW1-M0gq6",
        "scrolled": true,
        "outputId": "c5682289-7f40-4ad7-a159-0bf444f00cde"
      },
      "source": [
        "y_pred = cross_val_predict(gd_model,all_features,Targeted_feature,cv=10)\n",
        "sns.heatmap(confusion_matrix(Targeted_feature,y_pred),annot=True,fmt='3.0f',cmap=\"summer\")\n",
        "plt.title('Confusion_matrix_GD', y=1.05, size=15)"
      ],
      "execution_count": null,
      "outputs": [
        {
          "output_type": "execute_result",
          "data": {
            "text/plain": [
              "Text(0.5, 1.05, 'Confusion_matrix_GD')"
            ]
          },
          "metadata": {
            "tags": []
          },
          "execution_count": 102
        },
        {
          "output_type": "display_data",
          "data": {
            "image/png": "[encoded data removed]",
            "text/plain": [
              "<Figure size 432x288 with 2 Axes>"
            ]
          },
          "metadata": {
            "tags": [],
            "needs_background": "light"
          }
        }
      ]
    },
    {
      "cell_type": "code",
      "metadata": {
        "colab": {
          "base_uri": "https://localhost:8080/"
        },
        "id": "f1EdFc3ZuFCz",
        "outputId": "8fd23330-3d4b-41e6-9bd0-7ea9b0c385f7"
      },
      "source": [
        "print(classification_report(Targeted_feature,y_pred))"
      ],
      "execution_count": null,
      "outputs": [
        {
          "output_type": "stream",
          "text": [
            "              precision    recall  f1-score   support\n",
            "\n",
            "           0       0.87      0.96      0.91      6353\n",
            "           1       0.74      0.45      0.56      1647\n",
            "\n",
            "    accuracy                           0.85      8000\n",
            "   macro avg       0.80      0.70      0.74      8000\n",
            "weighted avg       0.84      0.85      0.84      8000\n",
            "\n"
          ],
          "name": "stdout"
        }
      ]
    },
    {
      "cell_type": "markdown",
      "metadata": {
        "id": "9G3QJTyu0gq6"
      },
      "source": [
        "##  XG Boost"
      ]
    },
    {
      "cell_type": "code",
      "metadata": {
        "colab": {
          "base_uri": "https://localhost:8080/"
        },
        "id": "LyNpWj7L0gq6",
        "outputId": "5b214398-f013-4b3c-c746-d6272119112f"
      },
      "source": [
        "from xgboost import XGBClassifier\n",
        "xgb = XGBClassifier(max_depth=4,learning_rate=0.01,n_estimators=100,verbosity=1,n_jobs=1)\n",
        "xgb.fit(X_train, y_train)"
      ],
      "execution_count": null,
      "outputs": [
        {
          "output_type": "execute_result",
          "data": {
            "text/plain": [
              "XGBClassifier(base_score=0.5, booster='gbtree', colsample_bylevel=1,\n",
              "              colsample_bynode=1, colsample_bytree=1, gamma=0,\n",
              "              learning_rate=0.01, max_delta_step=0, max_depth=4,\n",
              "              min_child_weight=1, missing=None, n_estimators=100, n_jobs=1,\n",
              "              nthread=None, objective='binary:logistic', random_state=0,\n",
              "              reg_alpha=0, reg_lambda=1, scale_pos_weight=1, seed=None,\n",
              "              silent=None, subsample=1, verbosity=1)"
            ]
          },
          "metadata": {
            "tags": []
          },
          "execution_count": 104
        }
      ]
    },
    {
      "cell_type": "code",
      "metadata": {
        "colab": {
          "base_uri": "https://localhost:8080/"
        },
        "id": "fULtY1Vr0gq6",
        "outputId": "38cba4c0-ddeb-4677-8778-16ffe8711978"
      },
      "source": [
        "prediction_xgb=xgb.predict(X_test)\n",
        "accuracy = round(accuracy_score(prediction_xgb,y_test)*100,2)\n",
        "print('The accuracy of the XG Boost is',accuracy)"
      ],
      "execution_count": null,
      "outputs": [
        {
          "output_type": "stream",
          "text": [
            "The accuracy of the XG Boost is 85.17\n"
          ],
          "name": "stdout"
        }
      ]
    },
    {
      "cell_type": "code",
      "metadata": {
        "colab": {
          "base_uri": "https://localhost:8080/"
        },
        "id": "48V3esjw0gq7",
        "outputId": "b0bd94f5-4aed-4aca-c8ca-985c58992319"
      },
      "source": [
        "kfold = KFold(n_splits=10, random_state=22) # k=10, split the data into 10 equal parts\n",
        "result_xg=cross_val_score(xgb,all_features,Targeted_feature,cv=10,scoring='accuracy')\n",
        "print('The cross validated score for XG Boost is:',round(result_xg.mean()*100,2))"
      ],
      "execution_count": null,
      "outputs": [
        {
          "output_type": "stream",
          "text": [
            "The cross validated score for XG Boost is: 84.76\n"
          ],
          "name": "stdout"
        }
      ]
    },
    {
      "cell_type": "code",
      "metadata": {
        "colab": {
          "base_uri": "https://localhost:8080/",
          "height": 300
        },
        "id": "XsxDyiWy0gq7",
        "outputId": "ca7d94c5-24e2-47d8-fc2e-9d04b71f3b98"
      },
      "source": [
        "y_pred = cross_val_predict(xgb,all_features,Targeted_feature,cv=10)\n",
        "sns.heatmap(confusion_matrix(Targeted_feature,y_pred),annot=True,fmt='3.0f',cmap=\"summer\")\n",
        "plt.title('Confusion_matrix_XGB', y=1.05, size=15)"
      ],
      "execution_count": null,
      "outputs": [
        {
          "output_type": "execute_result",
          "data": {
            "text/plain": [
              "Text(0.5, 1.05, 'Confusion_matrix_XGB')"
            ]
          },
          "metadata": {
            "tags": []
          },
          "execution_count": 107
        },
        {
          "output_type": "display_data",
          "data": {
            "image/png": "[encoded data removed]",
            "text/plain": [
              "<Figure size 432x288 with 2 Axes>"
            ]
          },
          "metadata": {
            "tags": [],
            "needs_background": "light"
          }
        }
      ]
    },
    {
      "cell_type": "code",
      "metadata": {
        "colab": {
          "base_uri": "https://localhost:8080/"
        },
        "id": "ItgUv-UTuFCz",
        "outputId": "2b174bbd-611a-4ba1-f639-85e415dc9631"
      },
      "source": [
        "print(classification_report(Targeted_feature,y_pred))"
      ],
      "execution_count": null,
      "outputs": [
        {
          "output_type": "stream",
          "text": [
            "              precision    recall  f1-score   support\n",
            "\n",
            "           0       0.87      0.95      0.91      6353\n",
            "           1       0.70      0.45      0.55      1647\n",
            "\n",
            "    accuracy                           0.85      8000\n",
            "   macro avg       0.79      0.70      0.73      8000\n",
            "weighted avg       0.84      0.85      0.83      8000\n",
            "\n"
          ],
          "name": "stdout"
        }
      ]
    },
    {
      "cell_type": "code",
      "metadata": {
        "id": "KxVoe6TOw7mN"
      },
      "source": [
        "models = pd.DataFrame({\n",
        "    'Model': [\"LR\", 'Random Forest', 'Ada Boost','Gradient Decent','Decision Tree'],\n",
        "    'Score': [result_lr.mean(),  \n",
        "              result_rm.mean(),  result_adb.mean(), \n",
        "              result_gbc.mean(), result_tree.mean()]})"
      ],
      "execution_count": null,
      "outputs": []
    },
    {
      "cell_type": "code",
      "metadata": {
        "id": "dirYDFxR3F0Q"
      },
      "source": [
        "models = pd.DataFrame({\n",
        "    'Model': [\"LR\", 'RF', 'Ada Boost','GD','DTree', \"XG Boost\"],\n",
        "    'Score': [result_lr.mean(),  \n",
        "              result_rm.mean(),  result_adb.mean(), \n",
        "              result_gbc.mean(), result_tree.mean(),result_xg.mean()]})"
      ],
      "execution_count": null,
      "outputs": []
    },
    {
      "cell_type": "code",
      "metadata": {
        "colab": {
          "base_uri": "https://localhost:8080/",
          "height": 226
        },
        "id": "YAuqD6RF3V3Y",
        "outputId": "4877cb2d-362d-4ce3-8af0-09d5bf9e2990"
      },
      "source": [
        "models"
      ],
      "execution_count": null,
      "outputs": [
        {
          "output_type": "execute_result",
          "data": {
            "text/html": [
              "<div>\n",
              "<style scoped>\n",
              "    .dataframe tbody tr th:only-of-type {\n",
              "        vertical-align: middle;\n",
              "    }\n",
              "\n",
              "    .dataframe tbody tr th {\n",
              "        vertical-align: top;\n",
              "    }\n",
              "\n",
              "    .dataframe thead th {\n",
              "        text-align: right;\n",
              "    }\n",
              "</style>\n",
              "<table border=\"1\" class=\"dataframe\">\n",
              "  <thead>\n",
              "    <tr style=\"text-align: right;\">\n",
              "      <th></th>\n",
              "      <th>Model</th>\n",
              "      <th>Score</th>\n",
              "    </tr>\n",
              "  </thead>\n",
              "  <tbody>\n",
              "    <tr>\n",
              "      <th>0</th>\n",
              "      <td>LR</td>\n",
              "      <td>0.818750</td>\n",
              "    </tr>\n",
              "    <tr>\n",
              "      <th>1</th>\n",
              "      <td>RF</td>\n",
              "      <td>0.826500</td>\n",
              "    </tr>\n",
              "    <tr>\n",
              "      <th>2</th>\n",
              "      <td>Ada Boost</td>\n",
              "      <td>0.842875</td>\n",
              "    </tr>\n",
              "    <tr>\n",
              "      <th>3</th>\n",
              "      <td>GD</td>\n",
              "      <td>0.853500</td>\n",
              "    </tr>\n",
              "    <tr>\n",
              "      <th>4</th>\n",
              "      <td>DTree</td>\n",
              "      <td>0.809250</td>\n",
              "    </tr>\n",
              "    <tr>\n",
              "      <th>5</th>\n",
              "      <td>XG Boost</td>\n",
              "      <td>0.847625</td>\n",
              "    </tr>\n",
              "  </tbody>\n",
              "</table>\n",
              "</div>"
            ],
            "text/plain": [
              "       Model     Score\n",
              "0         LR  0.818750\n",
              "1         RF  0.826500\n",
              "2  Ada Boost  0.842875\n",
              "3         GD  0.853500\n",
              "4      DTree  0.809250\n",
              "5   XG Boost  0.847625"
            ]
          },
          "metadata": {
            "tags": []
          },
          "execution_count": 111
        }
      ]
    },
    {
      "cell_type": "code",
      "metadata": {
        "colab": {
          "base_uri": "https://localhost:8080/",
          "height": 300
        },
        "id": "jxkqDaeb3b36",
        "outputId": "c63a0a0c-9981-4952-cebd-2a9d55ea7b6a"
      },
      "source": [
        "plt.plot(models[\"Model\"], models['Score'], marker='o')\n",
        "plt.title('Model Comparision', fontsize=14)\n",
        "plt.xlabel('Algorithm', fontsize=14)\n",
        "plt.ylabel('Score', fontsize=14)\n",
        "plt.grid(True)\n",
        "plt.show()"
      ],
      "execution_count": null,
      "outputs": [
        {
          "output_type": "display_data",
          "data": {
            "image/png": "[encoded data removed]",
            "text/plain": [
              "<Figure size 432x288 with 1 Axes>"
            ]
          },
          "metadata": {
            "tags": [],
            "needs_background": "light"
          }
        }
      ]
    },
    {
      "cell_type": "markdown",
      "metadata": {
        "id": "aqKwKWfXuFCz"
      },
      "source": [
        "# Part5: Build individual model2 with train and validate on test\n",
        "\n",
        "0. Combined all the 4 best individual models (Logistic Regression, Decision Tree, Random Forest, GBM)\n",
        "\n",
        "1. capture Combined (ensumbled) model accuracy using AUC, F1Score, Precision & Recall)\n",
        "2. Score the Combined model on test  & capture model accuracy using AUC, F1Score, Precision & Recall"
      ]
    },
    {
      "cell_type": "code",
      "metadata": {
        "id": "fO4WbMNJ3lE0"
      },
      "source": [
        "from sklearn.model_selection import GridSearchCV\n",
        "from sklearn.ensemble import GradientBoostingClassifier\n",
        "model = GradientBoostingClassifier()\n",
        "param_grid = {'loss' : [\"deviance\"],\n",
        "              'n_estimators' : [100,200,300],\n",
        "              'learning_rate': [0.05, 0.01,0.001],\n",
        "              'max_depth': [3,4, 5],\n",
        "              'min_samples_leaf': [100,150],\n",
        "              'max_features': [4,5] \n",
        "              }"
      ],
      "execution_count": null,
      "outputs": []
    },
    {
      "cell_type": "code",
      "metadata": {
        "colab": {
          "base_uri": "https://localhost:8080/"
        },
        "id": "0Iw5ddIl0gq7",
        "outputId": "5245f39d-d4af-496c-cb07-a3956bb218d4"
      },
      "source": [
        "modelf = GridSearchCV(model,param_grid = param_grid, cv=kfold, scoring=\"accuracy\", n_jobs= 4, verbose = 1)\n",
        "modelf.fit(X_train,y_train)"
      ],
      "execution_count": null,
      "outputs": [
        {
          "output_type": "stream",
          "text": [
            "Fitting 10 folds for each of 108 candidates, totalling 1080 fits\n"
          ],
          "name": "stdout"
        },
        {
          "output_type": "stream",
          "text": [
            "[Parallel(n_jobs=4)]: Using backend LokyBackend with 4 concurrent workers.\n",
            "[Parallel(n_jobs=4)]: Done  42 tasks      | elapsed:   15.3s\n",
            "[Parallel(n_jobs=4)]: Done 192 tasks      | elapsed:  1.2min\n",
            "[Parallel(n_jobs=4)]: Done 442 tasks      | elapsed:  3.1min\n",
            "[Parallel(n_jobs=4)]: Done 792 tasks      | elapsed:  5.6min\n",
            "[Parallel(n_jobs=4)]: Done 1080 out of 1080 | elapsed:  7.9min finished\n"
          ],
          "name": "stderr"
        },
        {
          "output_type": "execute_result",
          "data": {
            "text/plain": [
              "GridSearchCV(cv=KFold(n_splits=10, random_state=22, shuffle=False),\n",
              "             error_score=nan,\n",
              "             estimator=GradientBoostingClassifier(ccp_alpha=0.0,\n",
              "                                                  criterion='friedman_mse',\n",
              "                                                  init=None, learning_rate=0.1,\n",
              "                                                  loss='deviance', max_depth=3,\n",
              "                                                  max_features=None,\n",
              "                                                  max_leaf_nodes=None,\n",
              "                                                  min_impurity_decrease=0.0,\n",
              "                                                  min_impurity_split=None,\n",
              "                                                  min_samples_leaf=1,\n",
              "                                                  min_samples_split=2,\n",
              "                                                  min_weight...\n",
              "                                                  subsample=1.0, tol=0.0001,\n",
              "                                                  validation_fraction=0.1,\n",
              "                                                  verbose=0, warm_start=False),\n",
              "             iid='deprecated', n_jobs=4,\n",
              "             param_grid={'learning_rate': [0.05, 0.01, 0.001],\n",
              "                         'loss': ['deviance'], 'max_depth': [3, 4, 5],\n",
              "                         'max_features': [4, 5], 'min_samples_leaf': [100, 150],\n",
              "                         'n_estimators': [100, 200, 300]},\n",
              "             pre_dispatch='2*n_jobs', refit=True, return_train_score=False,\n",
              "             scoring='accuracy', verbose=1)"
            ]
          },
          "metadata": {
            "tags": []
          },
          "execution_count": 114
        }
      ]
    },
    {
      "cell_type": "code",
      "metadata": {
        "colab": {
          "base_uri": "https://localhost:8080/"
        },
        "id": "fmo7dvyz0gq7",
        "outputId": "14b3f051-1811-4edd-ab4b-6a8464831ad1"
      },
      "source": [
        "modelf.best_score_"
      ],
      "execution_count": null,
      "outputs": [
        {
          "output_type": "execute_result",
          "data": {
            "text/plain": [
              "0.8530357142857143"
            ]
          },
          "metadata": {
            "tags": []
          },
          "execution_count": 115
        }
      ]
    },
    {
      "cell_type": "code",
      "metadata": {
        "colab": {
          "base_uri": "https://localhost:8080/"
        },
        "id": "ZilLjaU90gq7",
        "outputId": "933df020-6020-4d8f-9446-b36be49d36af"
      },
      "source": [
        "modelf.best_estimator_"
      ],
      "execution_count": null,
      "outputs": [
        {
          "output_type": "execute_result",
          "data": {
            "text/plain": [
              "GradientBoostingClassifier(ccp_alpha=0.0, criterion='friedman_mse', init=None,\n",
              "                           learning_rate=0.05, loss='deviance', max_depth=5,\n",
              "                           max_features=5, max_leaf_nodes=None,\n",
              "                           min_impurity_decrease=0.0, min_impurity_split=None,\n",
              "                           min_samples_leaf=150, min_samples_split=2,\n",
              "                           min_weight_fraction_leaf=0.0, n_estimators=200,\n",
              "                           n_iter_no_change=None, presort='deprecated',\n",
              "                           random_state=None, subsample=1.0, tol=0.0001,\n",
              "                           validation_fraction=0.1, verbose=0,\n",
              "                           warm_start=False)"
            ]
          },
          "metadata": {
            "tags": []
          },
          "execution_count": 116
        }
      ]
    },
    {
      "cell_type": "code",
      "metadata": {
        "id": "cwRGFcKA0gq7"
      },
      "source": [
        "gdmodel= GradientBoostingClassifier(ccp_alpha=0.0, criterion='friedman_mse', init=None,\n",
        "                           learning_rate=0.05, loss='deviance', max_depth=5,\n",
        "                           max_features=5, max_leaf_nodes=None,\n",
        "                           min_impurity_decrease=0.0, min_impurity_split=None,\n",
        "                           min_samples_leaf=150, min_samples_split=2,\n",
        "                           min_weight_fraction_leaf=0.0, n_estimators=300,\n",
        "                           n_iter_no_change=None, presort='deprecated',\n",
        "                           random_state=None, subsample=1.0, tol=0.0001,\n",
        "                           validation_fraction=0.1, verbose=0,\n",
        "                           warm_start=False)\n",
        "gdmodel.fit(X_train,y_train)\n",
        "prediction_gbc=gdmodel.predict(X_test)"
      ],
      "execution_count": null,
      "outputs": []
    },
    {
      "cell_type": "code",
      "metadata": {
        "colab": {
          "base_uri": "https://localhost:8080/"
        },
        "id": "ZlNQPHr-AiGw",
        "outputId": "3762e531-f703-4cad-80a8-5376eaa67694"
      },
      "source": [
        "print('The accuracy of the Gradient Boosting Classifier is',round(accuracy_score(prediction_gbc,y_test)*100,2))"
      ],
      "execution_count": null,
      "outputs": [
        {
          "output_type": "stream",
          "text": [
            "The accuracy of the Gradient Boosting Classifier is 85.75\n"
          ],
          "name": "stdout"
        }
      ]
    },
    {
      "cell_type": "code",
      "metadata": {
        "id": "qxTJ4B3AAxMd"
      },
      "source": [
        "traindf=train_df\n",
        "testdf=test_df"
      ],
      "execution_count": null,
      "outputs": []
    },
    {
      "cell_type": "code",
      "metadata": {
        "colab": {
          "base_uri": "https://localhost:8080/"
        },
        "id": "rwhWBR6IAyCk",
        "outputId": "d497f271-5ea6-493f-b9df-332c8a740385"
      },
      "source": [
        "train_X = traindf.drop(\"exited\", axis = 1)\n",
        "train_Y = traindf[\"exited\"]\n",
        "test_X = testdf.drop(\"exited\", axis=1).copy()\n",
        "test_Y = testdf[['exited']]\n",
        "train_X.shape, train_Y.shape, test_X.shape, test_Y.shape"
      ],
      "execution_count": null,
      "outputs": [
        {
          "output_type": "execute_result",
          "data": {
            "text/plain": [
              "((8000, 15), (8000,), (2000, 15), (2000, 1))"
            ]
          },
          "metadata": {
            "tags": []
          },
          "execution_count": 120
        }
      ]
    },
    {
      "cell_type": "code",
      "metadata": {
        "id": "bHSP8q9mBPkK"
      },
      "source": [
        "gdmodel= GradientBoostingClassifier(ccp_alpha=0.0, criterion='friedman_mse', init=None,\n",
        "                           learning_rate=0.05, loss='deviance', max_depth=5,\n",
        "                           max_features=5, max_leaf_nodes=None,\n",
        "                           min_impurity_decrease=0.0, min_impurity_split=None,\n",
        "                           min_samples_leaf=150, min_samples_split=2,\n",
        "                           min_weight_fraction_leaf=0.0, n_estimators=300,\n",
        "                           n_iter_no_change=None, presort='deprecated',\n",
        "                           random_state=None, subsample=1.0, tol=0.0001,\n",
        "                           validation_fraction=0.1, verbose=0,\n",
        "                           warm_start=False)\n",
        "gdmodel.fit(train_X,train_Y)\n",
        "testprediction_gbc=gdmodel.predict(test_X)"
      ],
      "execution_count": null,
      "outputs": []
    },
    {
      "cell_type": "code",
      "metadata": {
        "colab": {
          "base_uri": "https://localhost:8080/"
        },
        "id": "AENOm-eqDnW2",
        "outputId": "87e57533-cedc-4cd2-8df2-7f36fc4a0c65"
      },
      "source": [
        "print('The accuracy of the Gradient Boosting Classifier is',round(accuracy_score(testprediction_gbc,test_Y)*100,2))"
      ],
      "execution_count": null,
      "outputs": [
        {
          "output_type": "stream",
          "text": [
            "The accuracy of the Gradient Boosting Classifier is 84.75\n"
          ],
          "name": "stdout"
        }
      ]
    },
    {
      "cell_type": "code",
      "metadata": {
        "id": "-gQYnbxb0xyf"
      },
      "source": [
        "y_test_predict = gdmodel.predict(test_X)"
      ],
      "execution_count": null,
      "outputs": []
    },
    {
      "cell_type": "code",
      "metadata": {
        "colab": {
          "base_uri": "https://localhost:8080/"
        },
        "id": "mzx_-aus1AI1",
        "outputId": "1f04006c-2d47-4653-a0e4-411c3c78a264"
      },
      "source": [
        "print(classification_report(test_Y, y_test_predict))"
      ],
      "execution_count": null,
      "outputs": [
        {
          "output_type": "stream",
          "text": [
            "              precision    recall  f1-score   support\n",
            "\n",
            "           0       0.87      0.96      0.91      1610\n",
            "           1       0.69      0.40      0.50       390\n",
            "\n",
            "    accuracy                           0.85      2000\n",
            "   macro avg       0.78      0.68      0.71      2000\n",
            "weighted avg       0.83      0.85      0.83      2000\n",
            "\n"
          ],
          "name": "stdout"
        }
      ]
    },
    {
      "cell_type": "code",
      "metadata": {
        "colab": {
          "base_uri": "https://localhost:8080/"
        },
        "id": "PgBVF8Tx4XR2",
        "outputId": "61aded45-2d95-45cc-d053-0c194d50443b"
      },
      "source": [
        "confusion_matrix(test_Y, y_test_predict)"
      ],
      "execution_count": null,
      "outputs": [
        {
          "output_type": "execute_result",
          "data": {
            "text/plain": [
              "array([[1540,   70],\n",
              "       [ 235,  155]])"
            ]
          },
          "metadata": {
            "tags": []
          },
          "execution_count": 125
        }
      ]
    },
    {
      "cell_type": "code",
      "metadata": {
        "colab": {
          "base_uri": "https://localhost:8080/",
          "height": 300
        },
        "id": "7njJIHgp4nGW",
        "outputId": "42437b90-5643-4b4f-996a-70c974699b57"
      },
      "source": [
        "sns.heatmap(confusion_matrix(test_Y, y_test_predict),annot=True,fmt='3.0f',cmap=\"summer\")\n",
        "plt.title('Confusion_matrix_GD', y=1.05, size=15)"
      ],
      "execution_count": null,
      "outputs": [
        {
          "output_type": "execute_result",
          "data": {
            "text/plain": [
              "Text(0.5, 1.05, 'Confusion_matrix_GD')"
            ]
          },
          "metadata": {
            "tags": []
          },
          "execution_count": 126
        },
        {
          "output_type": "display_data",
          "data": {
            "image/png": "[encoded data removed]",
            "text/plain": [
              "<Figure size 432x288 with 2 Axes>"
            ]
          },
          "metadata": {
            "tags": [],
            "needs_background": "light"
          }
        }
      ]
    },
    {
      "cell_type": "code",
      "metadata": {
        "colab": {
          "base_uri": "https://localhost:8080/"
        },
        "id": "bCnMqkb6450n",
        "outputId": "1869ae34-8d63-47fe-869c-07649a8e6f89"
      },
      "source": [
        "print(classification_report(test_Y, y_test_predict))"
      ],
      "execution_count": null,
      "outputs": [
        {
          "output_type": "stream",
          "text": [
            "              precision    recall  f1-score   support\n",
            "\n",
            "           0       0.87      0.96      0.91      1610\n",
            "           1       0.69      0.40      0.50       390\n",
            "\n",
            "    accuracy                           0.85      2000\n",
            "   macro avg       0.78      0.68      0.71      2000\n",
            "weighted avg       0.83      0.85      0.83      2000\n",
            "\n"
          ],
          "name": "stdout"
        }
      ]
    },
    {
      "cell_type": "code",
      "metadata": {
        "id": "5MI1WqGP-FOT"
      },
      "source": [
        ""
      ],
      "execution_count": null,
      "outputs": []
    }
  ]
}